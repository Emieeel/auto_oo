{
 "cells": [
  {
   "cell_type": "markdown",
   "id": "3c2d57ff",
   "metadata": {},
   "source": [
    "# This is a tutorial notebook for the `auto_oo` package\n",
    "\n",
    "The goal of this package is to provide the user with cost functions representing ground state energies of electronic structure Hamiltonians, that are auto-differentiable with respect to both quantum circuit ($\\vec{\\theta}$) and classical orbital parameters ($\\vec{\\kappa}$). See [our paper](https://arxiv.org/abs/2304.06070) and the other example notebook for more applications of this code.\n",
    "\n",
    "## Installation\n",
    "First, create an anaconda or pip environment and install PyTorch, for example locally in a cpu-only installation.\\\n",
    "Installation instructions can be found in the [Get Started](https://pytorch.org/get-started/locally/) section of the PyTorch website.\n",
    "For now, an additional dependency is jax, of which the cpu version can be easily installed via pip. See the [Installation instruction](https://github.com/google/jax#installation).\n",
    "The code is build such that you can use them interchangably.\n",
    "Finally, install this package by cloning the repo, then use `pip install -e .` in the cloned directory.\n",
    "### Dependencies\n",
    "We have the following dependencies:\n",
    "- numpy\n",
    "- pennylane (version >= 0.31.1, where the orbital-rotation bug is fixed. See [here](https://github.com/PennyLaneAI/pennylane/commit/5c87d88dfb36e8a173c97378e01ed6f40960d317).\n",
    "- scipy\n",
    "- openfermion\n",
    "- pyscf\n",
    "- pytorch\n",
    "- jax\n",
    "\n",
    "In this tutorial, we use [cirq](https://github.com/quantumlib/cirq) to visualize states using Dirac notation.\n",
    "\n",
    "For now, it is only interfaced with PySCF to retrieve molecular structure info.\n",
    "\n",
    "The updated version (0.31.1) of Pennylane is needed if you want to use np_fabrics ansatz.\n",
    "\n",
    "## Code structure\n",
    "\n",
    "```\n",
    "auto_oo\n",
    "├── ansatze\n",
    "│   ├── __init__.py\n",
    "│   ├── kUpCCD.py -│ Different Ansätze that are modified from Pennylane to exclude single excitations,\n",
    "│   └── uccd.py   -│ as we can deal with them in the classical orbital-optimization.\n",
    "├── __init__.py\n",
    "├── moldata_pyscf.py - Interface to pyscf for extracting integrals and overlap matrices\n",
    "│                      (and optionally do Hartree-Fock or CASSCF to compare results)\n",
    "├── pqc.py - Here we generate parameterized quantum circuits. There is a method to extract states\n",
    "│            and 1- and 2-Reduced Density Matrices (RDMs)\n",
    "├── oo_energy.py - Here the main code lives. This class is used to calculate auto-differentiable\n",
    "│                  energies from 1- and 2-RDMs. It can compute analytical gradients and Hessians\n",
    "│                  with respect to orbital rotations. It has a method to perform orbital optimization\n",
    "│                  using the newton_raphson module. It is agnostic to the method used to retrieve RDMs.\n",
    "├── oo_pqc.py - A child of the OO_energy class. Here the Parameterized circuit and the oo_energy\n",
    "│               come together and with this the user is able to extract orbital and quantum\n",
    "│               circuit parameter gradients and (composite) Hessians. It has a method to perform\n",
    "│               full (circuit and orbital) optimization with Newton-Raphson steps.\n",
    "├── noisy_oo_pqc.py Adaptation of the above class to include noisy gradients and Hessians used\n",
    "│                   in our sampling noise simulations.\n",
    "└── utils\n",
    "    ├── active_space.py - Functions for computing active space integrals and fermionic operators\n",
    "    ├── __init__.py\n",
    "    ├── miscellaneous.py - Some miscellaneous functions to enable sparse matrices\n",
    "    └── newton_raphson.py - Performs single Newton-Raphson steps (optionally with regularization) using\n",
    "                            gradients and Hessians\n",
    "```"
   ]
  },
  {
   "cell_type": "code",
   "execution_count": 1,
   "id": "342b64be",
   "metadata": {
    "ExecuteTime": {
     "end_time": "2023-08-09T13:20:56.283134Z",
     "start_time": "2023-08-09T13:20:53.321746Z"
    }
   },
   "outputs": [],
   "source": [
    "import auto_oo\n",
    "import pennylane as qml\n",
    "import numpy as np\n",
    "import torch\n",
    "import openfermion\n",
    "import cirq\n",
    "import matplotlib.pyplot as plt"
   ]
  },
  {
   "cell_type": "markdown",
   "id": "f936a73b",
   "metadata": {},
   "source": [
    "# Making a parameterized quantum circuit"
   ]
  },
  {
   "cell_type": "markdown",
   "id": "58b404b7",
   "metadata": {},
   "source": [
    "To define the electronic ground state energy of a particular molecule, we need two building blocks to start:\n",
    "- A parameterized quantum circuit\n",
    "- A model of the molecule, containing molecular data\n",
    "\n",
    "First let us define the parameterized quantum circuit. For our purposes, we want a class that takes as input the active space size and a PennyLane device. For more information how pennylane handles quantum circuits, see for example https://pennylane.ai/qml/demos/tutorial_qubit_rotation.html."
   ]
  },
  {
   "cell_type": "markdown",
   "id": "a8276124",
   "metadata": {},
   "source": [
    "These are the parameters we will try:"
   ]
  },
  {
   "cell_type": "code",
   "execution_count": 2,
   "id": "a60ce3ef",
   "metadata": {
    "ExecuteTime": {
     "end_time": "2023-08-09T13:21:01.812169Z",
     "start_time": "2023-08-09T13:21:01.697277Z"
    }
   },
   "outputs": [],
   "source": [
    "ncas = 3 # Number of active orbitals\n",
    "nelecas = 4 # Number of active electrons\n",
    "dev = qml.device('default.qubit', wires=2*ncas)"
   ]
  },
  {
   "cell_type": "markdown",
   "id": "f82474d7",
   "metadata": {},
   "source": [
    "The `auto_oo.Parameterized_circuit` class has as main goal to extract one- and two-RDMs given a set of quantum circuit parameters. It natively supports multiple standard Ansatzes, like UCC(S)D and Number-preserving Fabrics. One can also input a custom `pennylane.QNode` that outputs a quantum state, see the documentation of the class for more information. Both the parameter vector and output state are `torch.Tensor` objects, that are compatible with automatic differentation in pytorch."
   ]
  },
  {
   "cell_type": "code",
   "execution_count": 8,
   "id": "4a0705a6",
   "metadata": {
    "ExecuteTime": {
     "end_time": "2023-08-09T13:22:19.637518Z",
     "start_time": "2023-08-09T13:22:19.633481Z"
    }
   },
   "outputs": [],
   "source": [
    "ansatz = 'np_fabric' # One of the native ansatze. See https://docs.pennylane.ai/en/stable/code/api/pennylane.GateFabric.html\n",
    "n_layers = 2 # Number of layers in the GateFabric ansatz"
   ]
  },
  {
   "cell_type": "code",
   "execution_count": 9,
   "id": "86e9f154",
   "metadata": {
    "ExecuteTime": {
     "end_time": "2023-08-09T13:22:20.288003Z",
     "start_time": "2023-08-09T13:22:20.279432Z"
    }
   },
   "outputs": [],
   "source": [
    "pqc = auto_oo.Parameterized_circuit(ncas, nelecas, dev, ansatz=ansatz, n_layers=n_layers)"
   ]
  },
  {
   "cell_type": "markdown",
   "id": "f3280b15",
   "metadata": {},
   "source": [
    "A small detail: set the default input to double precision. This will be automatically fixed in a later version."
   ]
  },
  {
   "cell_type": "code",
   "execution_count": 10,
   "id": "e88f229c",
   "metadata": {
    "ExecuteTime": {
     "end_time": "2023-08-09T13:22:21.205369Z",
     "start_time": "2023-08-09T13:22:21.200691Z"
    }
   },
   "outputs": [],
   "source": [
    "torch.set_default_tensor_type(torch.DoubleTensor)"
   ]
  },
  {
   "cell_type": "code",
   "execution_count": 11,
   "id": "2830e5ed",
   "metadata": {
    "ExecuteTime": {
     "end_time": "2023-08-09T13:22:22.935314Z",
     "start_time": "2023-08-09T13:22:22.925739Z"
    },
    "scrolled": true
   },
   "outputs": [
    {
     "name": "stdout",
     "output_type": "stream",
     "text": [
      "0: ──X─╭G²(0.00)─╭OrbitalRotation(0.00)──────────────────────────────────╭G²(1.10)\n",
      "1: ──X─├G²(0.00)─├OrbitalRotation(0.00)──────────────────────────────────├G²(1.10)\n",
      "2: ──X─├G²(0.00)─├OrbitalRotation(0.00)─╭G²(3.72)─╭OrbitalRotation(2.82)─├G²(1.10)\n",
      "3: ──X─╰G²(0.00)─╰OrbitalRotation(0.00)─├G²(3.72)─├OrbitalRotation(2.82)─╰G²(1.10)\n",
      "4: ─────────────────────────────────────├G²(3.72)─├OrbitalRotation(2.82)──────────\n",
      "5: ─────────────────────────────────────╰G²(3.72)─╰OrbitalRotation(2.82)──────────\n",
      "\n",
      "──╭OrbitalRotation(2.74)──────────────────────────────────┤  State\n",
      "──├OrbitalRotation(2.74)──────────────────────────────────┤  State\n",
      "──├OrbitalRotation(2.74)─╭G²(4.68)─╭OrbitalRotation(3.95)─┤  State\n",
      "──╰OrbitalRotation(2.74)─├G²(4.68)─├OrbitalRotation(3.95)─┤  State\n",
      "─────────────────────────├G²(4.68)─├OrbitalRotation(3.95)─┤  State\n",
      "─────────────────────────╰G²(4.68)─╰OrbitalRotation(3.95)─┤  State\n"
     ]
    }
   ],
   "source": [
    "# Print the circuit for a random theta vector.\n",
    "theta_test = torch.Tensor([np.random.uniform(0., 2*np.pi) for x in range(pqc.theta_shape)])\n",
    "print(pqc.draw_circuit(theta_test))"
   ]
  },
  {
   "cell_type": "markdown",
   "id": "5b05b135",
   "metadata": {},
   "source": [
    "To extract the state from the pqc class, call the attribute `qnode` that returns a `torch.Tensor`."
   ]
  },
  {
   "cell_type": "code",
   "execution_count": 12,
   "id": "91559ce1",
   "metadata": {
    "ExecuteTime": {
     "end_time": "2023-08-09T13:22:23.759174Z",
     "start_time": "2023-08-09T13:22:23.740670Z"
    },
    "scrolled": false
   },
   "outputs": [
    {
     "name": "stdout",
     "output_type": "stream",
     "text": [
      "-0.2403|001111⟩ + 0.1283|011011⟩ + 0.032|011110⟩ - 0.1283|100111⟩ - 0.032|101101⟩ + 0.7141|110011⟩ - 0.0804|110110⟩ + 0.0804|111001⟩ + 0.6201|111100⟩\n"
     ]
    }
   ],
   "source": [
    "state = pqc.qnode(theta_test)\n",
    "# We can visualize the state in dirac notation with the help of cirq. For this, convert it to a numpy array first:\n",
    "print(cirq.dirac_notation(state.detach().numpy(), decimals=4))"
   ]
  },
  {
   "cell_type": "markdown",
   "id": "c71946ac",
   "metadata": {},
   "source": [
    "From this state, we can extract the spin-restricted 1- and 2-RDMS, defined by:\n",
    "\n",
    "$$\n",
    "\\begin{align}\n",
    "    \\gamma_{pq}(\\boldsymbol{\\theta}) &= \\langle\\psi(\\boldsymbol{\\theta})|E_{pq}|\\psi(\\boldsymbol{\\theta})\\rangle\\\\\n",
    "    \\Gamma_{pqrs}(\\boldsymbol{\\theta}) &= \\langle\\psi(\\boldsymbol{\\theta})|e_{pqrs}|\\psi(\\boldsymbol{\\theta})\\rangle\n",
    "\\end{align}\n",
    "$$\n",
    "\n",
    "where $E_{pq} = \\sum_\\sigma a_{p\\sigma}^\\dagger a_{q\\sigma}$ and $e_{pqrs} = \\sum_{\\sigma \\tau} a_{p\\sigma}^\\dagger a_{r\\tau}^\\dagger a_{s\\tau} a_{q\\sigma} = E_{pq}E_{rs} - \\delta_{qr}E_{ps}$.\n",
    "\n",
    "From these, we will later define the energy cost-function."
   ]
  },
  {
   "cell_type": "markdown",
   "id": "155c8a56",
   "metadata": {},
   "source": [
    "We can visualize the 1-RDM using matplotlib"
   ]
  },
  {
   "cell_type": "code",
   "execution_count": 13,
   "id": "f301092e",
   "metadata": {
    "ExecuteTime": {
     "end_time": "2023-08-09T13:22:26.257554Z",
     "start_time": "2023-08-09T13:22:25.040243Z"
    }
   },
   "outputs": [
    {
     "data": {
      "image/png": "[encoded data removed]",
      "text/plain": [
       "<Figure size 640x480 with 2 Axes>"
      ]
     },
     "metadata": {},
     "output_type": "display_data"
    }
   ],
   "source": [
    "import warnings\n",
    "warnings.simplefilter(\"ignore\", UserWarning) # Ignore a pytorch warning about sparse matrices being in beta state\n",
    "\n",
    "one_rdm, two_rdm = pqc.get_rdms_from_state(state)\n",
    "\n",
    "plt.imshow(one_rdm)\n",
    "plt.yticks(list(range(ncas)))\n",
    "plt.xticks(list(range(ncas)))\n",
    "plt.colorbar()\n",
    "plt.show()"
   ]
  },
  {
   "cell_type": "markdown",
   "id": "3cbdec95",
   "metadata": {},
   "source": [
    "# Make a cost-function with a molecular Hamiltonian"
   ]
  },
  {
   "cell_type": "markdown",
   "id": "3ce73340",
   "metadata": {},
   "source": [
    "## PySCF interface"
   ]
  },
  {
   "cell_type": "markdown",
   "id": "55fbd37f",
   "metadata": {},
   "source": [
    "Lets use the molecule formaldimine as an example. The `auto_oo` package is interfaced with PySCF to extract molecular properties using `auto_oo.Moldata_pyscf`. ![picture](formaldimine.png)"
   ]
  },
  {
   "cell_type": "code",
   "execution_count": 14,
   "id": "f829301e",
   "metadata": {
    "ExecuteTime": {
     "end_time": "2023-08-09T13:22:40.847241Z",
     "start_time": "2023-08-09T13:22:40.842465Z"
    }
   },
   "outputs": [],
   "source": [
    "def get_formal_geo(alpha, phi):\n",
    "    variables = [1.498047, 1.066797, 0.987109, 118.359375] + [alpha, phi]\n",
    "    geom = \"\"\"\n",
    "                    N\n",
    "                    C 1 {0}\n",
    "                    H 2 {1}  1 {3}\n",
    "                    H 2 {1}  1 {3} 3 180\n",
    "                    H 1 {2}  2 {4} 3 {5}\n",
    "                    \"\"\".format(*variables)\n",
    "    return geom"
   ]
  },
  {
   "cell_type": "code",
   "execution_count": 15,
   "id": "8948ecc6",
   "metadata": {
    "ExecuteTime": {
     "end_time": "2023-08-09T13:22:41.364129Z",
     "start_time": "2023-08-09T13:22:41.183348Z"
    }
   },
   "outputs": [],
   "source": [
    "alpha = 140\n",
    "phi = 80\n",
    "basis = 'sto-3g' # You can try a bigger basis set if you want\n",
    "mol = auto_oo.Moldata_pyscf(get_formal_geo(alpha,phi), basis)"
   ]
  },
  {
   "cell_type": "code",
   "execution_count": 16,
   "id": "3f494568",
   "metadata": {
    "ExecuteTime": {
     "end_time": "2023-08-09T13:22:41.516806Z",
     "start_time": "2023-08-09T13:22:41.514178Z"
    },
    "scrolled": true
   },
   "outputs": [
    {
     "name": "stdout",
     "output_type": "stream",
     "text": [
      "\n",
      "                    N\n",
      "                    C 1 1.498047\n",
      "                    H 2 1.066797  1 118.359375\n",
      "                    H 2 1.066797  1 118.359375 3 180\n",
      "                    H 1 0.987109  2 140 3 80\n",
      "                    \n"
     ]
    }
   ],
   "source": [
    "print(get_formal_geo(alpha, phi))"
   ]
  },
  {
   "cell_type": "code",
   "execution_count": 17,
   "id": "2877c8c3",
   "metadata": {
    "ExecuteTime": {
     "end_time": "2023-08-09T13:22:42.358612Z",
     "start_time": "2023-08-09T13:22:41.999658Z"
    }
   },
   "outputs": [
    {
     "name": "stdout",
     "output_type": "stream",
     "text": [
      "(13, 13)\n",
      "(13, 13, 13, 13)\n"
     ]
    },
    {
     "data": {
      "image/png": "[encoded data removed]",
      "text/plain": [
       "<Figure size 640x480 with 2 Axes>"
      ]
     },
     "metadata": {},
     "output_type": "display_data"
    }
   ],
   "source": [
    "# This class stores the integrals and the overlap matrix for example:\n",
    "print(mol.int1e_ao.shape)\n",
    "print(mol.int2e_ao.shape)\n",
    "plt.title(r'Overlap matrix $S_{\\mu \\nu} = \\langle \\chi_\\mu | \\chi_\\nu \\rangle$')\n",
    "plt.imshow(mol.overlap)\n",
    "plt.colorbar()\n",
    "plt.show()"
   ]
  },
  {
   "cell_type": "markdown",
   "id": "dc200c40",
   "metadata": {},
   "source": [
    "We can also run Hartree-Fock, CASCI or CASSCF:"
   ]
  },
  {
   "cell_type": "code",
   "execution_count": 18,
   "id": "fcac2643",
   "metadata": {
    "ExecuteTime": {
     "end_time": "2023-08-09T13:22:43.295963Z",
     "start_time": "2023-08-09T13:22:42.696989Z"
    }
   },
   "outputs": [],
   "source": [
    "mol.run_rhf()\n",
    "mol.run_casci(ncas, nelecas)\n",
    "mol.run_casscf(ncas, nelecas)"
   ]
  },
  {
   "cell_type": "code",
   "execution_count": 19,
   "id": "9eddee7c",
   "metadata": {
    "ExecuteTime": {
     "end_time": "2023-08-09T13:22:43.300115Z",
     "start_time": "2023-08-09T13:22:43.297568Z"
    }
   },
   "outputs": [
    {
     "name": "stdout",
     "output_type": "stream",
     "text": [
      "Hartree-Fock energy: -92.663722\n",
      "CASCI energy:        -92.736706\n",
      "CASSCF energy:       -92.749954\n"
     ]
    }
   ],
   "source": [
    "print(f'Hartree-Fock energy: {mol.hf.e_tot:.6f}')\n",
    "print(f'CASCI energy:        {mol.casci.e_tot:.6f}')\n",
    "print(f'CASSCF energy:       {mol.casscf.e_tot:.6f}')"
   ]
  },
  {
   "cell_type": "markdown",
   "id": "3d0eb3e1",
   "metadata": {},
   "source": [
    "## Orbital Optimized energies and Hamiltonians"
   ]
  },
  {
   "cell_type": "markdown",
   "id": "376741e2",
   "metadata": {},
   "source": [
    "To extract Hamiltonian and energies in different MO basis, feed it into the `OO_energy` class. If you the user does not input any MO coefficients, it defaults to Hartree-Fock MOs."
   ]
  },
  {
   "cell_type": "code",
   "execution_count": 20,
   "id": "152750ac",
   "metadata": {
    "ExecuteTime": {
     "end_time": "2023-08-09T13:22:52.061504Z",
     "start_time": "2023-08-09T13:22:52.053459Z"
    }
   },
   "outputs": [],
   "source": [
    "oo_energy = auto_oo.OO_energy(mol, ncas, nelecas)"
   ]
  },
  {
   "cell_type": "code",
   "execution_count": 21,
   "id": "7d6b70a7",
   "metadata": {
    "ExecuteTime": {
     "end_time": "2023-08-09T13:22:52.585871Z",
     "start_time": "2023-08-09T13:22:52.579680Z"
    }
   },
   "outputs": [
    {
     "data": {
      "text/plain": [
       "True"
      ]
     },
     "execution_count": 21,
     "metadata": {},
     "output_type": "execute_result"
    }
   ],
   "source": [
    "# Test if the MOs are indeed HF:\n",
    "np.allclose(oo_energy.mo_coeff.detach().numpy(), mol.hf.mo_coeff)\n",
    "# We use the .detach().numpy() method to convert a PyTorch Tensor to a numpy array"
   ]
  },
  {
   "cell_type": "markdown",
   "id": "48888f4b",
   "metadata": {},
   "source": [
    "The most important functionality of `auto_oo` is to give an auto-differentiable energy cost function in an active space. The energy will both depend on the 1- and 2-RDMs and the Molecular coefficients defined by the MOs. The set of MOs are in general written as:\n",
    "\n",
    "$$\n",
    "\\phi_p (C, \\mathbf{R}) = \\sum_{\\mu} \\chi_\\mu(\\mathbf{R}) C_{\\mu p}\n",
    "$$\n",
    "\n",
    "We can transform these MOs with a unitary matrix, parameterized exponentially by $\\kappa$:\n",
    "\n",
    "$$\n",
    "\\phi^\\prime_q = \\sum_p \\phi_p [e^{-\\kappa}]_{pq}\n",
    "$$\n",
    "\n",
    "where $\\kappa$ is an anti-symmetric matrix with $N(N-1)/2$ parameters. This amounts to transforming $C\\rightarrow C e^{-\\kappa}$.\n",
    "\n",
    "The total energy is given by:\n",
    "\n",
    "$$\n",
    "    E(C, \\gamma, \\Gamma) = E_{\\rm nuc} + E_{\\rm core}(C) +\n",
    "    \\sum_{tu}\\tilde{h}_{tu}(C) \\gamma_{tu} +\n",
    "    \\sum_{tuvw} g_{tuvw}(C) \\Gamma_{tuvw}\n",
    "$$\n",
    "\n",
    "where $E_{core}$ is the mean-field energy of the core (doubly-occupied) orbitals, $\\tilde{h}_{pq}$ is contains the active one-body terms plus the mean-field interaction of core-active orbitals and $g_{pqrs}$ are the active integrals in chemist ordering. \n",
    "\n",
    "This function is then differentiable to a transformation of the MOs $\\kappa$, and the one- and two-RDMs $\\gamma$ and $\\Gamma$. The single gradient and hessian with respect to orbital rotations,  $\\frac{\\partial E}{\\partial \\kappa_{pq}}$ and $\\frac{\\partial^2 E}{\\partial \\kappa_{pq} \\partial \\kappa_{rs}}$, can also be obtained analytically. Of the total parameter vector $\\kappa$, rotations from occupied to occupied and virtual to virtual are redundant and set to zero."
   ]
  },
  {
   "cell_type": "markdown",
   "id": "688b51fd",
   "metadata": {},
   "source": [
    "We can compute the active space energy with the RDMs from the `pqc` class. In that case, they are dependent on the circuit parameter vector $\\boldsymbol{\\theta}$."
   ]
  },
  {
   "cell_type": "code",
   "execution_count": 23,
   "id": "a27e372e",
   "metadata": {
    "ExecuteTime": {
     "end_time": "2023-08-09T13:23:31.861591Z",
     "start_time": "2023-08-09T13:23:31.853493Z"
    }
   },
   "outputs": [
    {
     "name": "stdout",
     "output_type": "stream",
     "text": [
      "Energy with a random theta: -92.502191\n"
     ]
    }
   ],
   "source": [
    "energy_random_theta = oo_energy.energy_from_mo_coeff(oo_energy.mo_coeff, one_rdm, two_rdm).item()\n",
    "print(f'Energy with a random theta: {energy_random_theta:.6f}')"
   ]
  },
  {
   "cell_type": "markdown",
   "id": "7e7085df",
   "metadata": {},
   "source": [
    "Of course, the energy with a random theta is not great. While the `auto_oo` package is really only meant to give you primitives of energies and parameter derivatives, there is a method included to optimize the orbitals, that uses the `newton_raphson` module. For more information, we refer you to the documentation of the `newton_raphson` module. We can optimize the orbitals for this specific state by calling the `orbital_optimization` method."
   ]
  },
  {
   "cell_type": "code",
   "execution_count": 25,
   "id": "ac3214a7",
   "metadata": {
    "ExecuteTime": {
     "end_time": "2023-08-09T13:24:22.617586Z",
     "start_time": "2023-08-09T13:24:22.518263Z"
    }
   },
   "outputs": [
    {
     "name": "stdout",
     "output_type": "stream",
     "text": [
      "iter = 000, energy = -92.546873671912\n",
      "iter = 001, energy = -92.550823734195\n",
      "iter = 002, energy = -92.560821320082\n",
      "iter = 003, energy = -92.590866341963\n",
      "iter = 004, energy = -92.613945393479\n",
      "iter = 005, energy = -92.616055107384\n",
      "iter = 006, energy = -92.616068152030\n",
      "iter = 007, energy = -92.616068153120\n"
     ]
    }
   ],
   "source": [
    "energy_l = oo_energy.orbital_optimization(one_rdm, two_rdm)"
   ]
  },
  {
   "cell_type": "code",
   "execution_count": 26,
   "id": "e2170197",
   "metadata": {
    "ExecuteTime": {
     "end_time": "2023-08-09T13:24:23.276829Z",
     "start_time": "2023-08-09T13:24:23.149291Z"
    },
    "scrolled": true
   },
   "outputs": [
    {
     "data": {
      "image/png": "[encoded data removed]",
      "text/plain": [
       "<Figure size 640x480 with 1 Axes>"
      ]
     },
     "metadata": {},
     "output_type": "display_data"
    }
   ],
   "source": [
    "plt.plot(energy_l, '.-r', label='Orbital optimization')\n",
    "plt.axhline(mol.hf.e_tot, ls='--', c='g', label='HF')\n",
    "plt.axhline(mol.casci.e_tot, ls='--', c='b', label='CASCI')\n",
    "plt.axhline(mol.casscf.e_tot, ls='--', c='k', label='CASSCF')\n",
    "plt.xlabel('iteration')\n",
    "plt.ylabel(r'$E$ [Ha]')\n",
    "plt.legend()\n",
    "plt.show()"
   ]
  },
  {
   "cell_type": "markdown",
   "id": "3d19832b",
   "metadata": {},
   "source": [
    "## Optimizing a circuit \n",
    "While this gives us optimized orbitals for a random theta, a user usually often interested in optimizing he parameters as well. Lets do it for the Hartree-Fock orbitals. As this is not functionality that is inside `auto_oo`, we can import from PyTorch a gradient descent optimizer. "
   ]
  },
  {
   "cell_type": "markdown",
   "id": "7e74c25b",
   "metadata": {},
   "source": [
    "First, extract the active space Hamiltonian"
   ]
  },
  {
   "cell_type": "code",
   "execution_count": 27,
   "id": "c03f09e4",
   "metadata": {
    "ExecuteTime": {
     "end_time": "2023-08-09T13:24:34.377766Z",
     "start_time": "2023-08-09T13:24:34.357411Z"
    }
   },
   "outputs": [],
   "source": [
    "# We can extract the Hamiltonian as an openfermion FermionOperator for the Hartree-Fock orbitals\n",
    "c0, c1, c2 = oo_energy.get_active_integrals(torch.from_numpy(mol.hf.mo_coeff))\n",
    "fermionic_cas_hamiltonian = auto_oo.fermionic_cas_hamiltonian(c0, c1, c2)"
   ]
  },
  {
   "cell_type": "code",
   "execution_count": 28,
   "id": "91a6cd2e",
   "metadata": {
    "ExecuteTime": {
     "end_time": "2023-08-09T13:24:35.726216Z",
     "start_time": "2023-08-09T13:24:35.514893Z"
    },
    "scrolled": true
   },
   "outputs": [
    {
     "name": "stdout",
     "output_type": "stream",
     "text": [
      "Based on HF orbitals, the CASCI ground state energy is: -92.736706\n",
      "CASCI energy from PySCF:                                -92.736706\n"
     ]
    }
   ],
   "source": [
    "# Compute the eigenvalues to make sure we have the correct Hamiltonian\n",
    "fch_energies = openfermion.eigenspectrum(fermionic_cas_hamiltonian)\n",
    "e_0 = fch_energies[0]\n",
    "print(f'Based on HF orbitals, the CASCI ground state energy is: {e_0:.6f}')\n",
    "print(f'CASCI energy from PySCF:                                {mol.casci.e_tot:.6f}')"
   ]
  },
  {
   "cell_type": "markdown",
   "id": "9893df6b",
   "metadata": {},
   "source": [
    "Now we can convert it to a pennylane observable to measure with a `qml.qnode`. First convert it to a QubitOperator with the Jordan-Wigner transformation."
   ]
  },
  {
   "cell_type": "code",
   "execution_count": 29,
   "id": "e4219195",
   "metadata": {
    "ExecuteTime": {
     "end_time": "2023-08-09T13:24:37.091037Z",
     "start_time": "2023-08-09T13:24:37.033816Z"
    }
   },
   "outputs": [],
   "source": [
    "qubit_cas_hamiltonian = openfermion.jordan_wigner(fermionic_cas_hamiltonian)"
   ]
  },
  {
   "cell_type": "code",
   "execution_count": 30,
   "id": "e3f08ac2",
   "metadata": {
    "ExecuteTime": {
     "end_time": "2023-08-09T13:24:37.974145Z",
     "start_time": "2023-08-09T13:24:37.946270Z"
    }
   },
   "outputs": [],
   "source": [
    "pennylane_cas_hamiltonian = qml.qchem.import_operator(qubit_cas_hamiltonian)"
   ]
  },
  {
   "cell_type": "markdown",
   "id": "42c93d18",
   "metadata": {},
   "source": [
    "For the ansatz lets choose the same one that is inside the `pqc` class, the GateFabric ansatz. We can optimize it with the Adam optimizer from PyTorch. This automatically computes the gradient at every step. It can do so quickly because of automatic-differentation of the circuit."
   ]
  },
  {
   "cell_type": "code",
   "execution_count": 31,
   "id": "5a218f4a",
   "metadata": {
    "ExecuteTime": {
     "end_time": "2023-08-09T13:24:39.448657Z",
     "start_time": "2023-08-09T13:24:39.444194Z"
    }
   },
   "outputs": [],
   "source": [
    "@qml.qnode(dev, interface='torch', diff_method='backprop')\n",
    "def cost_function(theta):\n",
    "    \"\"\" Outputs NP fabric ansatz state\"\"\"\n",
    "    qml.GateFabric(theta,\n",
    "                   wires=pqc.wires, init_state=pqc.hfstate, include_pi=False)\n",
    "    return qml.expval(pennylane_cas_hamiltonian)"
   ]
  },
  {
   "cell_type": "code",
   "execution_count": 32,
   "id": "80ea544a",
   "metadata": {
    "ExecuteTime": {
     "end_time": "2023-08-09T13:24:40.312994Z",
     "start_time": "2023-08-09T13:24:40.134165Z"
    }
   },
   "outputs": [
    {
     "name": "stdout",
     "output_type": "stream",
     "text": [
      "Zero parameters give us an energy of:       -92.663722\n",
      "Should be equal to the Hartree-Fock energy: -92.663722\n"
     ]
    }
   ],
   "source": [
    "theta = torch.zeros(pqc.full_theta_shape)\n",
    "theta.requires_grad = True\n",
    "\n",
    "energy_init = cost_function(theta).item()\n",
    "print(f'Zero parameters give us an energy of:       {energy_init:.6f}')\n",
    "print(f'Should be equal to the Hartree-Fock energy: {mol.hf.e_tot:.6f}')"
   ]
  },
  {
   "cell_type": "code",
   "execution_count": 33,
   "id": "178c2795",
   "metadata": {
    "ExecuteTime": {
     "end_time": "2023-08-09T13:24:40.800378Z",
     "start_time": "2023-08-09T13:24:40.796569Z"
    }
   },
   "outputs": [],
   "source": [
    "# Define hyperparameters and optimizer of the VQE\n",
    "max_iterations = 100\n",
    "conv_tol = 1e-8\n",
    "stepsize = 0.03\n",
    "e_min = 1e99\n",
    "opt = torch.optim.Adam([theta],lr=stepsize)\n",
    "\n",
    "# Save results in\n",
    "opt_trajectory = [energy_init]\n",
    "theta_trajectory = [theta.detach().clone()]"
   ]
  },
  {
   "cell_type": "code",
   "execution_count": 34,
   "id": "ca53ba85",
   "metadata": {
    "ExecuteTime": {
     "end_time": "2023-08-09T13:25:05.413835Z",
     "start_time": "2023-08-09T13:24:41.522265Z"
    },
    "scrolled": true
   },
   "outputs": [
    {
     "name": "stdout",
     "output_type": "stream",
     "text": [
      "iter, e = 0 -92.66637216451433\n",
      "iter, e = 1 -92.66870321172385\n",
      "iter, e = 2 -92.6706956343295\n",
      "iter, e = 3 -92.67259714066249\n",
      "iter, e = 4 -92.67433510170314\n",
      "iter, e = 5 -92.67585618080426\n",
      "iter, e = 6 -92.67714338218276\n",
      "iter, e = 7 -92.67827065721652\n",
      "iter, e = 8 -92.67937801078979\n",
      "iter, e = 9 -92.68054015697639\n",
      "iter, e = 10 -92.68177226119693\n",
      "iter, e = 11 -92.68310095592636\n",
      "iter, e = 12 -92.68457882027793\n",
      "iter, e = 13 -92.68625363121787\n",
      "iter, e = 14 -92.6881419819804\n",
      "iter, e = 15 -92.69023050784078\n",
      "iter, e = 16 -92.69249073709399\n",
      "iter, e = 17 -92.6948909267111\n",
      "iter, e = 18 -92.69739971446761\n",
      "iter, e = 19 -92.69998449952188\n",
      "iter, e = 20 -92.70260924104677\n",
      "iter, e = 21 -92.70523441757305\n",
      "iter, e = 22 -92.70781992496056\n",
      "iter, e = 23 -92.71033009525632\n",
      "iter, e = 24 -92.71273824128687\n",
      "iter, e = 25 -92.71502714031337\n",
      "iter, e = 26 -92.71718420494354\n",
      "iter, e = 27 -92.71919625758122\n",
      "iter, e = 28 -92.72105119911346\n",
      "iter, e = 29 -92.72274547958064\n",
      "iter, e = 30 -92.72428673872143\n",
      "iter, e = 31 -92.72568573679342\n",
      "iter, e = 32 -92.72694739148457\n",
      "iter, e = 33 -92.72807341796195\n",
      "iter, e = 34 -92.72907093758019\n",
      "iter, e = 35 -92.72995099529058\n",
      "iter, e = 36 -92.73071974239382\n",
      "iter, e = 37 -92.73138035831117\n",
      "iter, e = 38 -92.73194284292691\n",
      "iter, e = 39 -92.73242310293816\n",
      "iter, e = 40 -92.73283425207818\n",
      "iter, e = 41 -92.73318706711774\n",
      "iter, e = 42 -92.73349561114331\n",
      "iter, e = 43 -92.73377441115517\n",
      "iter, e = 44 -92.73403235035754\n",
      "iter, e = 45 -92.73427353898633\n",
      "iter, e = 46 -92.73450097480395\n",
      "iter, e = 47 -92.73471607652996\n",
      "iter, e = 48 -92.73491674741564\n",
      "iter, e = 49 -92.7350989576844\n",
      "iter, e = 50 -92.73526001926754\n",
      "iter, e = 51 -92.73539921717295\n",
      "iter, e = 52 -92.7355165122803\n",
      "iter, e = 53 -92.73561260581329\n",
      "iter, e = 54 -92.73569011073296\n",
      "iter, e = 55 -92.73575321657927\n",
      "iter, e = 56 -92.73580601008233\n",
      "iter, e = 57 -92.7358519332159\n",
      "iter, e = 58 -92.73589441961579\n",
      "iter, e = 59 -92.73593666417068\n",
      "iter, e = 60 -92.73598068627908\n",
      "iter, e = 61 -92.73602742330844\n",
      "iter, e = 62 -92.73607748883113\n",
      "iter, e = 63 -92.73613107244867\n",
      "iter, e = 64 -92.73618742684806\n",
      "iter, e = 65 -92.73624516843311\n",
      "iter, e = 66 -92.7363028682705\n",
      "iter, e = 67 -92.73635899689094\n",
      "iter, e = 68 -92.73641176078755\n",
      "iter, e = 69 -92.7364594981884\n",
      "iter, e = 70 -92.73650107433397\n",
      "iter, e = 71 -92.73653577891076\n",
      "iter, e = 72 -92.73656323678765\n",
      "iter, e = 73 -92.7365836367945\n",
      "iter, e = 74 -92.7365977782574\n",
      "iter, e = 75 -92.7366067664894\n",
      "iter, e = 76 -92.73661183470405\n",
      "iter, e = 77 -92.73661437537324\n",
      "iter, e = 78 -92.73661579483388\n",
      "iter, e = 79 -92.73661724226405\n",
      "iter, e = 80 -92.7366195588573\n",
      "iter, e = 81 -92.73662334091114\n",
      "iter, e = 82 -92.73662886661816\n",
      "iter, e = 83 -92.73663604719569\n",
      "iter, e = 84 -92.73664455799673\n",
      "iter, e = 85 -92.73665395153844\n",
      "iter, e = 86 -92.73666366123449\n",
      "iter, e = 87 -92.73667307039157\n",
      "iter, e = 88 -92.73668164857328\n",
      "iter, e = 89 -92.73668899203281\n",
      "iter, e = 90 -92.7366948088823\n",
      "iter, e = 91 -92.73669896378237\n",
      "iter, e = 92 -92.73670150510694\n",
      "iter, e = 93 -92.73670260905435\n",
      "iter, e = 94 -92.73670253568513\n",
      "iter, e = 95 -92.73670162408665\n",
      "iter, e = 96 -92.73670024670268\n",
      "iter, e = 97 -92.73669874260527\n",
      "iter, e = 98 -92.73669739859182\n",
      "iter, e = 99 -92.73669644177399\n"
     ]
    }
   ],
   "source": [
    "for n in range(max_iterations):\n",
    "    # At every step, clear the gradient and do a backward pass to compute\n",
    "    # the gradient. Then perform one step of the Adam optimizer.\n",
    "    opt.zero_grad()\n",
    "    loss = cost_function(theta)\n",
    "    loss.backward()\n",
    "    opt.step()\n",
    "\n",
    "    curr_energy = cost_function(theta).item()\n",
    "\n",
    "    print('iter, e =', n, curr_energy)\n",
    "    opt_trajectory.append(curr_energy)\n",
    "    theta_trajectory.append(theta.detach().clone())\n",
    "\n",
    "    if curr_energy < e_min:\n",
    "        e_min = curr_energy\n",
    "        n_min = n\n",
    "        theta_min = theta.detach().clone()\n",
    "    \n",
    "    # Convergence condition\n",
    "    if n > 1:\n",
    "        if (np.abs(opt_trajectory[-1] - opt_trajectory[-2])\\\n",
    "            < conv_tol):\n",
    "            print(\"\\nVQE converged\")\n",
    "            print(f'VQE energy: {opt_trajectory[-1]:.6f}')\n",
    "            print(f'CASCI energy:  {mol.casci.e_tot:.6f}')\n",
    "            break\n"
   ]
  },
  {
   "cell_type": "code",
   "execution_count": 35,
   "id": "73816f22",
   "metadata": {
    "ExecuteTime": {
     "end_time": "2023-08-09T13:25:05.536911Z",
     "start_time": "2023-08-09T13:25:05.416406Z"
    }
   },
   "outputs": [
    {
     "data": {
      "image/png": "[encoded data removed]",
      "text/plain": [
       "<Figure size 640x480 with 1 Axes>"
      ]
     },
     "metadata": {},
     "output_type": "display_data"
    }
   ],
   "source": [
    "plt.plot(opt_trajectory, '.-r', label='VQE optimization')\n",
    "plt.axhline(mol.hf.e_tot, ls='--', c='g', label='HF')\n",
    "plt.axhline(mol.casci.e_tot, ls='--', c='b', label='CASCI')\n",
    "plt.axhline(mol.casscf.e_tot, ls='--', c='k', label='CASSCF')\n",
    "plt.xlabel('iteration')\n",
    "plt.ylabel(r'$E$ [Ha]')\n",
    "plt.legend()\n",
    "plt.show()"
   ]
  },
  {
   "cell_type": "markdown",
   "id": "78932df4",
   "metadata": {},
   "source": [
    "# Put the parameterized quantum circuit and differentiable cost function together with `OO_pqc`\n",
    "\n",
    "If you want a cost function dependent on both quantum circuit parameters $\\theta$ and orbital rotation parameters $\\kappa$, use the `OO_energy` child class `OO_pqc`. With this you can compute gradients to both parameters, and including composite Hessians."
   ]
  },
  {
   "cell_type": "code",
   "execution_count": 36,
   "id": "3ae06fd0",
   "metadata": {
    "ExecuteTime": {
     "end_time": "2023-08-09T13:25:05.542618Z",
     "start_time": "2023-08-09T13:25:05.538209Z"
    }
   },
   "outputs": [],
   "source": [
    "oo_pqc = auto_oo.OO_pqc(pqc, mol, ncas, nelecas, freeze_active=True)"
   ]
  },
  {
   "cell_type": "markdown",
   "id": "35fdbfda",
   "metadata": {},
   "source": [
    "We can now retrieve the full Hessian to all the parameters. It can be written as:\n",
    "\n",
    "$$\n",
    "\\begin{align}\n",
    "    \\nabla_{(\\boldsymbol{\\theta},\\boldsymbol{\\kappa})} E \n",
    "    &= (\\nabla_{\\boldsymbol{\\theta}}E, \\nabla_{\\boldsymbol{\\kappa}} E)  \\label{eq:composite-gradient}\n",
    "    \\\\\n",
    "    \\nabla^2_{(\\boldsymbol{\\theta},\\boldsymbol{\\kappa})} E \n",
    "    &= \n",
    "    \\begin{bmatrix}\n",
    "        \\nabla^2_{\\boldsymbol{\\theta}}E \n",
    "        & \\nabla_{\\boldsymbol{\\kappa}}\\nabla_{\\boldsymbol{\\theta}} E\\\\\n",
    "        (\\nabla_{\\boldsymbol{\\kappa}}\\nabla_{\\boldsymbol{\\theta}} E)^\\intercal\n",
    "        & \\nabla^2_{\\boldsymbol{\\kappa}} E \n",
    "    \\end{bmatrix}.  \\label{eq:composite-hessian}\n",
    "\\end{align}\n",
    "$$\n",
    "\n",
    "The off-diagonal blocks are computed by auto-differentation of the analytical gradient of $\\kappa$ w.r.t. $\\theta$ "
   ]
  },
  {
   "cell_type": "code",
   "execution_count": 37,
   "id": "1b3ebc4a",
   "metadata": {
    "ExecuteTime": {
     "end_time": "2023-08-09T13:25:06.205300Z",
     "start_time": "2023-08-09T13:25:05.544370Z"
    }
   },
   "outputs": [
    {
     "name": "stdout",
     "output_type": "stream",
     "text": [
      "Number of thetas: 6\n",
      "Number of kappas: 54\n",
      "Shape of the full Hessian matrix: torch.Size([60, 60])\n"
     ]
    }
   ],
   "source": [
    "print(\"Number of thetas:\", pqc.theta_shape)\n",
    "print(\"Number of kappas:\", oo_pqc.n_kappa)\n",
    "print(\"Shape of the full Hessian matrix:\", oo_pqc.full_hessian(theta_test).shape)"
   ]
  },
  {
   "cell_type": "markdown",
   "id": "18197ce9",
   "metadata": {},
   "source": [
    "To perform full optimization (i.e. OO-VQE) of both circuit and orbital parameters with the Newton-raphson method, we can call the `full_optimizaton` method of `OO_pqc`."
   ]
  },
  {
   "cell_type": "code",
   "execution_count": 38,
   "id": "f884a5c1",
   "metadata": {
    "ExecuteTime": {
     "end_time": "2023-08-09T13:25:19.954362Z",
     "start_time": "2023-08-09T13:25:06.206948Z"
    }
   },
   "outputs": [
    {
     "name": "stdout",
     "output_type": "stream",
     "text": [
      "iter = 000, energy = -92.663721935561\n",
      "iter = 001, energy = -92.703329345161\n",
      "iter = 002, energy = -92.726531309276\n",
      "iter = 003, energy = -92.728970171942\n",
      "iter = 004, energy = -92.735894219635\n",
      "iter = 005, energy = -92.748386743894\n",
      "iter = 006, energy = -92.748582756633\n",
      "iter = 007, energy = -92.749167712992\n",
      "iter = 008, energy = -92.749221860108\n",
      "iter = 009, energy = -92.749234092023\n",
      "iter = 010, energy = -92.749252867310\n",
      "iter = 011, energy = -92.749280554700\n",
      "iter = 012, energy = -92.749414901043\n",
      "iter = 013, energy = -92.749635672341\n",
      "iter = 014, energy = -92.749830431066\n",
      "iter = 015, energy = -92.749942259795\n",
      "iter = 016, energy = -92.749950244167\n",
      "iter = 017, energy = -92.749953629340\n",
      "iter = 018, energy = -92.749953681391\n",
      "iter = 019, energy = -92.749953681394\n",
      "optimization finished.\n",
      "E_fin = -92.74995368139423\n"
     ]
    }
   ],
   "source": [
    "theta_zero = pqc.init_zeros()\n",
    "energy_l, theta_l, kappa_l, oao_mo_coeff_l, hess_eig_l = oo_pqc.full_optimization(theta_zero)"
   ]
  },
  {
   "cell_type": "markdown",
   "id": "4fef9176",
   "metadata": {},
   "source": [
    "Indeed, we should have reached the CASSCF energy, given that the ansatz can exactly represent the ground state:"
   ]
  },
  {
   "cell_type": "code",
   "execution_count": 39,
   "id": "9ff71c86",
   "metadata": {
    "ExecuteTime": {
     "end_time": "2023-08-09T13:25:19.959246Z",
     "start_time": "2023-08-09T13:25:19.956057Z"
    },
    "scrolled": true
   },
   "outputs": [
    {
     "name": "stdout",
     "output_type": "stream",
     "text": [
      "\n",
      "OO-VQE converged\n",
      "OO-VQE energy: -92.749954\n",
      "CASSCF energy: -92.749954\n"
     ]
    }
   ],
   "source": [
    "print(\"\\nOO-VQE converged\")\n",
    "print(f'OO-VQE energy: {energy_l[-1]:.6f}')\n",
    "print(f'CASSCF energy: {mol.casscf.e_tot:.6f}')"
   ]
  },
  {
   "cell_type": "code",
   "execution_count": 40,
   "id": "74048a35",
   "metadata": {
    "ExecuteTime": {
     "end_time": "2023-08-09T13:25:20.107451Z",
     "start_time": "2023-08-09T13:25:19.961188Z"
    }
   },
   "outputs": [
    {
     "data": {
      "image/png": "[encoded data removed]",
      "text/plain": [
       "<Figure size 640x480 with 1 Axes>"
      ]
     },
     "metadata": {},
     "output_type": "display_data"
    }
   ],
   "source": [
    "plt.plot(np.append(mol.hf.e_tot, energy_l), '.-r', label='OO-VQE optimization')\n",
    "plt.axhline(mol.hf.e_tot, ls='--', c='g', label='HF')\n",
    "plt.axhline(mol.casci.e_tot, ls='--', c='b', label='CASCI')\n",
    "plt.axhline(mol.casscf.e_tot, ls='--', c='k', label='CASSCF')\n",
    "plt.xlabel('iteration')\n",
    "plt.ylabel(r'$E$ [Ha]')\n",
    "plt.legend()\n",
    "plt.show()"
   ]
  },
  {
   "cell_type": "markdown",
   "id": "d1d66e81",
   "metadata": {},
   "source": [
    "We see here an important parameter of Newton-Rapshon optimization: the lowest eigenvalue of the Hessian. This determines the rate of convergence. "
   ]
  },
  {
   "cell_type": "code",
   "execution_count": 41,
   "id": "66058729",
   "metadata": {
    "ExecuteTime": {
     "end_time": "2023-08-09T13:25:20.237185Z",
     "start_time": "2023-08-09T13:25:20.109183Z"
    }
   },
   "outputs": [
    {
     "data": {
      "image/png": "[encoded data removed]",
      "text/plain": [
       "<Figure size 640x480 with 1 Axes>"
      ]
     },
     "metadata": {},
     "output_type": "display_data"
    }
   ],
   "source": [
    "plt.plot(hess_eig_l, '.-r', label='Hessian lowest eigenvalue')\n",
    "plt.xlabel('iteration')\n",
    "plt.ylabel(r'$1/||\\mathcal{H}^{-1}||$')\n",
    "plt.legend()\n",
    "plt.show()"
   ]
  },
  {
   "cell_type": "markdown",
   "id": "534ca9ad",
   "metadata": {},
   "source": [
    "And sometimes the parameters during the optization can be useful:"
   ]
  },
  {
   "cell_type": "code",
   "execution_count": 42,
   "id": "80f6dcb2",
   "metadata": {
    "ExecuteTime": {
     "end_time": "2023-08-09T13:25:20.398886Z",
     "start_time": "2023-08-09T13:25:20.239119Z"
    }
   },
   "outputs": [
    {
     "data": {
      "image/png": "[encoded data removed]",
      "text/plain": [
       "<Figure size 640x480 with 1 Axes>"
      ]
     },
     "metadata": {},
     "output_type": "display_data"
    }
   ],
   "source": [
    "for i in range(len(theta_test)):\n",
    "    plt.plot([theta_l[j][i] for j in range(len(theta_l))], '.-', label=f'$\\\\theta {i}$')\n",
    "plt.xlabel('iteration')\n",
    "plt.ylabel(r'$\\theta$')\n",
    "plt.legend()\n",
    "plt.show()"
   ]
  },
  {
   "cell_type": "code",
   "execution_count": null,
   "id": "a57805a7",
   "metadata": {},
   "outputs": [],
   "source": []
  }
 ],
 "metadata": {
  "kernelspec": {
   "display_name": "Python 3 (ipykernel)",
   "language": "python",
   "name": "python3"
  },
  "language_info": {
   "codemirror_mode": {
    "name": "ipython",
    "version": 3
   },
   "file_extension": ".py",
   "mimetype": "text/x-python",
   "name": "python",
   "nbconvert_exporter": "python",
   "pygments_lexer": "ipython3",
   "version": "3.10.9"
  },
  "toc": {
   "base_numbering": 1,
   "nav_menu": {},
   "number_sections": true,
   "sideBar": true,
   "skip_h1_title": false,
   "title_cell": "Table of Contents",
   "title_sidebar": "Contents",
   "toc_cell": false,
   "toc_position": {},
   "toc_section_display": true,
   "toc_window_display": false
  }
 },
 "nbformat": 4,
 "nbformat_minor": 5
}
