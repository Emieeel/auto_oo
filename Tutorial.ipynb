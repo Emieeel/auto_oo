{
 "cells": [
  {
   "cell_type": "markdown",
   "id": "3c2d57ff",
   "metadata": {},
   "source": [
    "# This is a tutorial notebook for the `auto_oo` package\n",
    "\n",
    "## Installation\n",
    "First, create an anaconda or pip environment and install PyTorch, for example locally in a cpu-only installation:\n",
    "\n",
    "```conda install pytorch cpuonly -c pytorch```\n",
    "\n",
    "Optionally use GPU if your system supports it, but it is not recommended for small active spaces.\n",
    "\n",
    "For now, it is only interfaced with PySCF to retrieve molecular structure info. This can be changed in the\n",
    "future to our qc2nl datastructure. To install PySCF, run:\n",
    "\n",
    "```pip install pyscf```\n",
    "\n",
    "We need the updated version of Pennylane if you want to use np_fabrics ansatz, as it needed a bug-fix. Install it by cloning the pennylane repo and installing with `pip install -e .`.\n",
    "\n",
    "After that, install the `auto_oo` package in the same way: clone the repo, then use `pip install -e .` in the cloned directory.\n",
    "\n",
    "\n",
    "## Code structure\n",
    "\n",
    "```\n",
    "auto_oo\n",
    "├── ansatz\n",
    "│   ├── pqc.py - Here we generate parameterized quantum circuits. There is a method to extract states\n",
    "│   │            and 1- and 2-Reduced Density Matrices (RDMs)\n",
    "│   ├── kUpCCD.py -│ Different Ansätze that are modified from Pennylane to exclude single excitations,\n",
    "│   └── uccd.py   -│ as we can deal with them in the classical orbital-optimization.\n",
    "├── moldata_pyscf\n",
    "│   └── moldata_pyscf.py - Interface to pyscf for extracting integrals and overlap matrices\n",
    "│                          (and optionally do Hartree-Fock or CASSCF to compare results)\n",
    "├── newton_raphson\n",
    "│   └── newton_raphson.py - Performs single Newton-Raphson steps (optionally with regularization)\n",
    "├── oo_energy\n",
    "│   ├── integrals.py - Functions for computing active space integrals\n",
    "│   └── oo_energy.py - Here the main code lives. This class is used to calculate auto-differentiable\n",
    "│                      energies from 1- and 2-RDMs. It can compute analytical gradients and Hessians\n",
    "│                      with respect to orbital rotations. It has a method to perform orbital optimization\n",
    "│                      using the newton_raphson module. It is agnostic to the method used to retrieve RDMs.\n",
    "└── oo_pqc\n",
    "    ├── oo_pqc.py - A child of the OO_energy class. Here the Parameterized circuit and the oo_energy\n",
    "    │               come together and with this the user is able to extract orbital and quantum\n",
    "    │               circuit parameter gradients and (composite) Hessians. It has a method to perform\n",
    "    │               full (circuit and orbital) optimization with Newton-Raphson steps.\n",
    "    └── noisy_oo_pqc.py - Adaptation of the above class to include noisy gradients and Hessians used\n",
    "                          in our sampling noise simulations.\n",
    "```\n",
    "\n"
   ]
  },
  {
   "cell_type": "code",
   "execution_count": 1,
   "id": "342b64be",
   "metadata": {},
   "outputs": [],
   "source": [
    "import auto_oo\n",
    "import pennylane as qml\n",
    "import numpy as np\n",
    "import torch\n",
    "import openfermion\n",
    "import cirq\n",
    "import matplotlib.pyplot as plt"
   ]
  },
  {
   "cell_type": "markdown",
   "id": "f936a73b",
   "metadata": {},
   "source": [
    "## Making a parameterized quantum circuit"
   ]
  },
  {
   "cell_type": "markdown",
   "id": "58b404b7",
   "metadata": {},
   "source": [
    "First define the active space size and the pennylane device. For more information how pennylane handles quantum circuits, see https://pennylane.ai/qml/demos/tutorial_qubit_rotation.html"
   ]
  },
  {
   "cell_type": "code",
   "execution_count": 2,
   "id": "a60ce3ef",
   "metadata": {},
   "outputs": [],
   "source": [
    "ncas = 6\n",
    "nelecas = 6\n",
    "dev = qml.device('default.qubit', wires=2*ncas)"
   ]
  },
  {
   "cell_type": "markdown",
   "id": "f82474d7",
   "metadata": {},
   "source": [
    "The `auto_oo.Parameterized_circuit` class has multiple native Ansatzes, like UCC(S)D and Number-preserving Fabrics. One can also input a custom `pennylane.QNode` that outputs a quantum state. Both the parameter vector and output state are `torch.Tensor` objects, that are compatible with automatic differentation in pytorch."
   ]
  },
  {
   "cell_type": "code",
   "execution_count": 3,
   "id": "7e9583ab",
   "metadata": {},
   "outputs": [],
   "source": [
    "# auto_oo.Parameterized_circuit?"
   ]
  },
  {
   "cell_type": "code",
   "execution_count": 4,
   "id": "4a0705a6",
   "metadata": {},
   "outputs": [],
   "source": [
    "n_layers = 6"
   ]
  },
  {
   "cell_type": "code",
   "execution_count": 5,
   "id": "86e9f154",
   "metadata": {},
   "outputs": [],
   "source": [
    "pqc = auto_oo.Parameterized_circuit(ncas, nelecas, dev, ansatz='np_fabric', n_layers=n_layers)"
   ]
  },
  {
   "cell_type": "code",
   "execution_count": 6,
   "id": "2830e5ed",
   "metadata": {
    "scrolled": true
   },
   "outputs": [
    {
     "name": "stdout",
     "output_type": "stream",
     "text": [
      " 0: ──X────────╭G²(0.00)──────────────╭OrbitalRotation(0.00)─────────────────────────────────\n",
      " 1: ──X────────├G²(0.00)──────────────├OrbitalRotation(0.00)─────────────────────────────────\n",
      " 2: ──X────────├G²(0.00)──────────────├OrbitalRotation(0.00)─╭G²(0.48)─╭OrbitalRotation(0.59)\n",
      " 3: ──X────────╰G²(0.00)──────────────╰OrbitalRotation(0.00)─├G²(0.48)─├OrbitalRotation(0.59)\n",
      " 4: ──X────────╭G²(0.00)──────────────╭OrbitalRotation(0.00)─├G²(0.48)─├OrbitalRotation(0.59)\n",
      " 5: ──X────────├G²(0.00)──────────────├OrbitalRotation(0.00)─╰G²(0.48)─╰OrbitalRotation(0.59)\n",
      " 6: ───────────├G²(0.00)──────────────├OrbitalRotation(0.00)─╭G²(0.42)─╭OrbitalRotation(0.52)\n",
      " 7: ───────────╰G²(0.00)──────────────╰OrbitalRotation(0.00)─├G²(0.42)─├OrbitalRotation(0.52)\n",
      " 8: ─╭G²(0.00)─╭OrbitalRotation(0.00)────────────────────────├G²(0.42)─├OrbitalRotation(0.52)\n",
      " 9: ─├G²(0.00)─├OrbitalRotation(0.00)────────────────────────╰G²(0.42)─╰OrbitalRotation(0.52)\n",
      "10: ─├G²(0.00)─├OrbitalRotation(0.00)────────────────────────────────────────────────────────\n",
      "11: ─╰G²(0.00)─╰OrbitalRotation(0.00)────────────────────────────────────────────────────────\n",
      "\n",
      "──╭G²(0.17)─╭OrbitalRotation(0.84)──────────────────────────────────╭G²(0.68)─╭OrbitalRotation(0.74)\n",
      "──├G²(0.17)─├OrbitalRotation(0.84)──────────────────────────────────├G²(0.68)─├OrbitalRotation(0.74)\n",
      "──├G²(0.17)─├OrbitalRotation(0.84)─╭G²(0.01)─╭OrbitalRotation(0.79)─├G²(0.68)─├OrbitalRotation(0.74)\n",
      "──╰G²(0.17)─╰OrbitalRotation(0.84)─├G²(0.01)─├OrbitalRotation(0.79)─╰G²(0.68)─╰OrbitalRotation(0.74)\n",
      "──╭G²(0.21)─╭OrbitalRotation(0.99)─├G²(0.01)─├OrbitalRotation(0.79)─╭G²(0.88)─╭OrbitalRotation(0.74)\n",
      "──├G²(0.21)─├OrbitalRotation(0.99)─╰G²(0.01)─╰OrbitalRotation(0.79)─├G²(0.88)─├OrbitalRotation(0.74)\n",
      "──├G²(0.21)─├OrbitalRotation(0.99)─╭G²(0.77)─╭OrbitalRotation(0.71)─├G²(0.88)─├OrbitalRotation(0.74)\n",
      "──╰G²(0.21)─╰OrbitalRotation(0.99)─├G²(0.77)─├OrbitalRotation(0.71)─╰G²(0.88)─╰OrbitalRotation(0.74)\n",
      "──╭G²(0.99)─╭OrbitalRotation(0.14)─├G²(0.77)─├OrbitalRotation(0.71)─╭G²(0.03)─╭OrbitalRotation(0.39)\n",
      "──├G²(0.99)─├OrbitalRotation(0.14)─╰G²(0.77)─╰OrbitalRotation(0.71)─├G²(0.03)─├OrbitalRotation(0.39)\n",
      "──├G²(0.99)─├OrbitalRotation(0.14)──────────────────────────────────├G²(0.03)─├OrbitalRotation(0.39)\n",
      "──╰G²(0.99)─╰OrbitalRotation(0.14)──────────────────────────────────╰G²(0.03)─╰OrbitalRotation(0.39)\n",
      "\n",
      "───────────────────────────────────╭G²(0.04)─╭OrbitalRotation(0.97)─────────────────────────────────\n",
      "───────────────────────────────────├G²(0.04)─├OrbitalRotation(0.97)─────────────────────────────────\n",
      "──╭G²(0.15)─╭OrbitalRotation(0.04)─├G²(0.04)─├OrbitalRotation(0.97)─╭G²(0.36)─╭OrbitalRotation(1.00)\n",
      "──├G²(0.15)─├OrbitalRotation(0.04)─╰G²(0.04)─╰OrbitalRotation(0.97)─├G²(0.36)─├OrbitalRotation(1.00)\n",
      "──├G²(0.15)─├OrbitalRotation(0.04)─╭G²(0.18)─╭OrbitalRotation(0.79)─├G²(0.36)─├OrbitalRotation(1.00)\n",
      "──╰G²(0.15)─╰OrbitalRotation(0.04)─├G²(0.18)─├OrbitalRotation(0.79)─╰G²(0.36)─╰OrbitalRotation(1.00)\n",
      "──╭G²(0.26)─╭OrbitalRotation(0.73)─├G²(0.18)─├OrbitalRotation(0.79)─╭G²(0.27)─╭OrbitalRotation(0.61)\n",
      "──├G²(0.26)─├OrbitalRotation(0.73)─╰G²(0.18)─╰OrbitalRotation(0.79)─├G²(0.27)─├OrbitalRotation(0.61)\n",
      "──├G²(0.26)─├OrbitalRotation(0.73)─╭G²(0.65)─╭OrbitalRotation(0.65)─├G²(0.27)─├OrbitalRotation(0.61)\n",
      "──╰G²(0.26)─╰OrbitalRotation(0.73)─├G²(0.65)─├OrbitalRotation(0.65)─╰G²(0.27)─╰OrbitalRotation(0.61)\n",
      "───────────────────────────────────├G²(0.65)─├OrbitalRotation(0.65)─────────────────────────────────\n",
      "───────────────────────────────────╰G²(0.65)─╰OrbitalRotation(0.65)─────────────────────────────────\n",
      "\n",
      "──╭G²(0.56)─╭OrbitalRotation(0.68)──────────────────────────────────╭G²(0.76)─╭OrbitalRotation(0.76)\n",
      "──├G²(0.56)─├OrbitalRotation(0.68)──────────────────────────────────├G²(0.76)─├OrbitalRotation(0.76)\n",
      "──├G²(0.56)─├OrbitalRotation(0.68)─╭G²(0.29)─╭OrbitalRotation(0.88)─├G²(0.76)─├OrbitalRotation(0.76)\n",
      "──╰G²(0.56)─╰OrbitalRotation(0.68)─├G²(0.29)─├OrbitalRotation(0.88)─╰G²(0.76)─╰OrbitalRotation(0.76)\n",
      "──╭G²(0.15)─╭OrbitalRotation(0.20)─├G²(0.29)─├OrbitalRotation(0.88)─╭G²(0.54)─╭OrbitalRotation(0.17)\n",
      "──├G²(0.15)─├OrbitalRotation(0.20)─╰G²(0.29)─╰OrbitalRotation(0.88)─├G²(0.54)─├OrbitalRotation(0.17)\n",
      "──├G²(0.15)─├OrbitalRotation(0.20)─╭G²(0.49)─╭OrbitalRotation(0.81)─├G²(0.54)─├OrbitalRotation(0.17)\n",
      "──╰G²(0.15)─╰OrbitalRotation(0.20)─├G²(0.49)─├OrbitalRotation(0.81)─╰G²(0.54)─╰OrbitalRotation(0.17)\n",
      "──╭G²(0.49)─╭OrbitalRotation(0.27)─├G²(0.49)─├OrbitalRotation(0.81)─╭G²(0.52)─╭OrbitalRotation(0.92)\n",
      "──├G²(0.49)─├OrbitalRotation(0.27)─╰G²(0.49)─╰OrbitalRotation(0.81)─├G²(0.52)─├OrbitalRotation(0.92)\n",
      "──├G²(0.49)─├OrbitalRotation(0.27)──────────────────────────────────├G²(0.52)─├OrbitalRotation(0.92)\n",
      "──╰G²(0.49)─╰OrbitalRotation(0.27)──────────────────────────────────╰G²(0.52)─╰OrbitalRotation(0.92)\n",
      "\n",
      "───────────────────────────────────┤  State\n",
      "───────────────────────────────────┤  State\n",
      "──╭G²(0.74)─╭OrbitalRotation(0.23)─┤  State\n",
      "──├G²(0.74)─├OrbitalRotation(0.23)─┤  State\n",
      "──├G²(0.74)─├OrbitalRotation(0.23)─┤  State\n",
      "──╰G²(0.74)─╰OrbitalRotation(0.23)─┤  State\n",
      "──╭G²(0.46)─╭OrbitalRotation(0.45)─┤  State\n",
      "──├G²(0.46)─├OrbitalRotation(0.45)─┤  State\n",
      "──├G²(0.46)─├OrbitalRotation(0.45)─┤  State\n",
      "──╰G²(0.46)─╰OrbitalRotation(0.45)─┤  State\n",
      "───────────────────────────────────┤  State\n",
      "───────────────────────────────────┤  State\n"
     ]
    }
   ],
   "source": [
    "# Print the circuit for a random theta vector.\n",
    "theta_test = torch.Tensor([np.random.random() for x in range(pqc.theta_shape)])\n",
    "print(pqc.draw_circuit(theta_test))"
   ]
  },
  {
   "cell_type": "markdown",
   "id": "5b05b135",
   "metadata": {},
   "source": [
    "To extract the state from the pqc class, call the attribute `qnode` that returns a `torch.Tensor`."
   ]
  },
  {
   "cell_type": "code",
   "execution_count": 7,
   "id": "91559ce1",
   "metadata": {
    "scrolled": true
   },
   "outputs": [
    {
     "name": "stdout",
     "output_type": "stream",
     "text": [
      "-0.0002|000011001111⟩ + 0.0003|000011011011⟩ + 0.0009|000011011110⟩ - 0.0003|000011100111⟩ - 0.0009|000011101101⟩ + 0.001|000011110011⟩ + 0.0033|000011110110⟩ - 0.0033|000011111001⟩ + 0.0015|000011111100⟩ + 0.0003|000100111110⟩ - 0.0002|000101101110⟩ - 0.0004|000101111010⟩ - 0.0001|000110011011⟩ + 0.0001|000110100111⟩ + 0.0003|000110101101⟩ - 0.0003|000110110011⟩ - 0.0007|000110110110⟩ + 0.0011|000110111001⟩ - 0.0003|000110111100⟩ - 0.0004|000111001011⟩ - 0.0027|000111001110⟩ - 0.006|000111011010⟩ + 0.0016|000111100011⟩ + 0.0103|000111100110⟩ - 0.0043|000111101001⟩ + 0.0052|000111101100⟩ - 0.0048|000111110010⟩ + 0.0062|000111111000⟩ - 0.0003|001000111101⟩ + 0.0001|001001011011⟩ + 0.0003|001001011110⟩ - 0.0001|001001100111⟩ + 0.0003|001001110011⟩ + 0.0011|001001110110⟩ - 0.0007|001001111001⟩ + 0.0003|001001111100⟩ - 0.0002|001010011101⟩ - 0.0004|001010110101⟩ + 0.0004|001011000111⟩ + 0.0027|001011001101⟩ - 0.0016|001011010011⟩ - 0.0043|001011010110⟩ + 0.0103|001011011001⟩ - 0.0052|001011011100⟩ - 0.006|001011100101⟩ + 0.0048|001011110001⟩ - 0.0062|001011110100⟩ + 0.0004|001100001111⟩ - 0.0008|001100011011⟩ - 0.002|001100011110⟩ + 0.0008|001100100111⟩ + 0.002|001100101101⟩ - 0.0025|001100110011⟩ - 0.0083|001100110110⟩ + 0.0083|001100111001⟩ - 0.0037|001100111100⟩ - 0.0006|001101001011⟩ - 0.0033|001101001110⟩ - 0.0063|001101011010⟩ + 0.0029|001101100011⟩ + 0.0148|001101100110⟩ - 0.0086|001101101001⟩ + 0.0074|001101101100⟩ - 0.0061|001101110010⟩ + 0.0079|001101111000⟩ + 0.0006|001110000111⟩ + 0.0033|001110001101⟩ - 0.0029|001110010011⟩ - 0.0086|001110010110⟩ + 0.0148|001110011001⟩ - 0.0074|001110011100⟩ - 0.0063|001110100101⟩ + 0.0061|001110110001⟩ - 0.0079|001110110100⟩ + 0.0109|001111000011⟩ + 0.0415|001111000110⟩ - 0.0415|001111001001⟩ + 0.0269|001111001100⟩ - 0.0195|001111010010⟩ + 0.0195|001111011000⟩ + 0.0195|001111100001⟩ - 0.0195|001111100100⟩ - 0.0094|001111110000⟩ - 0.0003|010000111110⟩ + 0.0002|010001101110⟩ + 0.0002|010001111010⟩ - 0.0001|010010001111⟩ + 0.0003|010010011011⟩ + 0.0006|010010011110⟩ - 0.0003|010010100111⟩ - 0.0008|010010101101⟩ + 0.0008|010010110011⟩ + 0.0027|010010110110⟩ - 0.0028|010010111001⟩ + 0.0013|010010111100⟩ + 0.0001|010011001011⟩ - 0.0005|010011001110⟩ + 0.009|010011011010⟩ - 0.0007|010011100011⟩ - 0.0104|010011100110⟩ + 0.0014|010011101001⟩ - 0.0071|010011101100⟩ + 0.0167|010011110010⟩ - 0.0205|010011111000⟩ + 0.0004|010100101110⟩ + 0.0023|010100111010⟩ - 0.0014|010101101010⟩ + 0.0009|010110001011⟩ + 0.0054|010110001110⟩ + 0.0091|010110011010⟩ - 0.0031|010110100011⟩ - 0.0157|010110100110⟩ + 0.0079|010110101001⟩ - 0.0068|010110101100⟩ + 0.0038|010110110010⟩ - 0.0045|010110111000⟩ - 0.0179|010111001010⟩ + 0.0262|010111100010⟩ - 0.0242|010111101000⟩ + 0.0013|011000001111⟩ - 0.0022|011000011011⟩ - 0.0066|011000011110⟩ + 0.0022|011000100111⟩ + 0.0062|011000101101⟩ - 0.0075|011000110011⟩ - 0.028|011000110110⟩ + 0.0257|011000111001⟩ - 0.0137|011000111100⟩ - 0.0019|011001001011⟩ - 0.0086|011001001110⟩ - 0.0125|011001011010⟩ + 0.0079|011001100011⟩ + 0.037|011001100110⟩ - 0.0231|011001101001⟩ + 0.0179|011001101100⟩ - 0.0113|011001110010⟩ + 0.0149|011001111000⟩ + 0.0011|011010000111⟩ + 0.0032|011010001101⟩ - 0.0048|011010010011⟩ - 0.0166|011010010110⟩ + 0.02|011010011001⟩ - 0.0111|011010011100⟩ - 0.0048|011010100101⟩ + 0.0075|011010110001⟩ - 0.0104|011010110100⟩ + 0.0341|011011000011⟩ + 0.147|011011000110⟩ - 0.1291|011011001001⟩ + 0.1014|011011001100⟩ - 0.0973|011011010010⟩ + 0.1099|011011011000⟩ + 0.071|011011100001⟩ - 0.0857|011011100100⟩ - 0.0166|011011110000⟩ + 0.0013|011100001011⟩ + 0.0112|011100001110⟩ - 0.0014|011100011010⟩ - 0.0047|011100100011⟩ - 0.0121|011100100110⟩ + 0.0136|011100101001⟩ - 0.001|011100101100⟩ - 0.0251|011100110010⟩ + 0.0299|011100111000⟩ - 0.022|011101001010⟩ + 0.0436|011101100010⟩ - 0.0447|011101101000⟩ + 0.0278|011110000011⟩ + 0.126|011110000110⟩ - 0.104|011110001001⟩ + 0.0864|011110001100⟩ - 0.0996|011110010010⟩ + 0.1179|011110011000⟩ + 0.0561|011110100001⟩ - 0.0731|011110100100⟩ - 0.0031|011110110000⟩ + 0.1559|011111000010⟩ - 0.202|011111001000⟩ + 0.0872|011111100000⟩ + 0.0003|100000111101⟩ + 0.0001|100001001111⟩ - 0.0003|100001011011⟩ - 0.0008|100001011110⟩ + 0.0003|100001100111⟩ + 0.0006|100001101101⟩ - 0.0008|100001110011⟩ - 0.0028|100001110110⟩ + 0.0027|100001111001⟩ - 0.0013|100001111100⟩ + 0.0002|100010011101⟩ + 0.0002|100010110101⟩ - 0.0001|100011000111⟩ + 0.0005|100011001101⟩ + 0.0007|100011010011⟩ + 0.0014|100011010110⟩ - 0.0104|100011011001⟩ + 0.0071|100011011100⟩ + 0.009|100011100101⟩ - 0.0167|100011110001⟩ + 0.0205|100011110100⟩ - 0.0013|100100001111⟩ + 0.0022|100100011011⟩ + 0.0062|100100011110⟩ - 0.0022|100100100111⟩ - 0.0066|100100101101⟩ + 0.0075|100100110011⟩ + 0.0257|100100110110⟩ - 0.028|100100111001⟩ + 0.0137|100100111100⟩ + 0.0011|100101001011⟩ + 0.0032|100101001110⟩ + 0.0048|100101011010⟩ - 0.0048|100101100011⟩ - 0.02|100101100110⟩ + 0.0166|100101101001⟩ - 0.0111|100101101100⟩ + 0.0075|100101110010⟩ - 0.0104|100101111000⟩ - 0.0019|100110000111⟩ - 0.0086|100110001101⟩ + 0.0079|100110010011⟩ + 0.0231|100110010110⟩ - 0.037|100110011001⟩ + 0.0179|100110011100⟩ + 0.0125|100110100101⟩ - 0.0113|100110110001⟩ + 0.0149|100110110100⟩ - 0.0341|100111000011⟩ - 0.1291|100111000110⟩ + 0.147|100111001001⟩ - 0.1014|100111001100⟩ + 0.071|100111010010⟩ - 0.0857|100111011000⟩ - 0.0973|100111100001⟩ + 0.1099|100111100100⟩ + 0.0166|100111110000⟩ + 0.0004|101000011101⟩ + 0.0023|101000110101⟩ + 0.0009|101001000111⟩ + 0.0054|101001001101⟩ - 0.0031|101001010011⟩ - 0.0079|101001010110⟩ + 0.0157|101001011001⟩ - 0.0068|101001011100⟩ - 0.0091|101001100101⟩ + 0.0038|101001110001⟩ - 0.0045|101001110100⟩ + 0.0014|101010010101⟩ - 0.0179|101011000101⟩ + 0.0262|101011010001⟩ - 0.0242|101011010100⟩ - 0.0013|101100000111⟩ - 0.0112|101100001101⟩ + 0.0047|101100010011⟩ + 0.0136|101100010110⟩ - 0.0121|101100011001⟩ + 0.001|101100011100⟩ - 0.0014|101100100101⟩ + 0.0251|101100110001⟩ - 0.0299|101100110100⟩ - 0.0278|101101000011⟩ - 0.104|101101000110⟩ + 0.126|101101001001⟩ - 0.0864|101101001100⟩ + 0.0561|101101010010⟩ - 0.0731|101101011000⟩ - 0.0996|101101100001⟩ + 0.1179|101101100100⟩ + 0.0031|101101110000⟩ - 0.022|101110000101⟩ + 0.0436|101110010001⟩ - 0.0447|101110010100⟩ - 0.1559|101111000001⟩ + 0.202|101111000100⟩ - 0.0872|101111010000⟩ + 0.0006|110000001111⟩ - 0.0009|110000011011⟩ - 0.0028|110000011110⟩ + 0.0009|110000100111⟩ + 0.0028|110000101101⟩ - 0.0033|110000110011⟩ - 0.012|110000110110⟩ + 0.012|110000111001⟩ - 0.0067|110000111100⟩ - 0.0005|110001001011⟩ - 0.0021|110001001110⟩ + 0.0022|110001100011⟩ + 0.0075|110001100110⟩ - 0.0075|110001101001⟩ + 0.0037|110001101100⟩ + 0.0013|110001110010⟩ - 0.0006|110001111000⟩ + 0.0005|110010000111⟩ + 0.0021|110010001101⟩ - 0.0022|110010010011⟩ - 0.0075|110010010110⟩ + 0.0075|110010011001⟩ - 0.0037|110010011100⟩ - 0.0013|110010110001⟩ + 0.0006|110010110100⟩ + 0.0163|110011000011⟩ + 0.0661|110011000110⟩ - 0.0661|110011001001⟩ + 0.0519|110011001100⟩ - 0.04|110011010010⟩ + 0.044|110011011000⟩ + 0.04|110011100001⟩ - 0.044|110011100100⟩ - 0.0197|110011110000⟩ + 0.001|110100001011⟩ + 0.0116|110100001110⟩ - 0.007|110100011010⟩ - 0.0041|110100100011⟩ - 0.0057|110100100110⟩ + 0.0127|110100101001⟩ + 0.0021|110100101100⟩ - 0.0356|110100110010⟩ + 0.0392|110100111000⟩ - 0.0112|110101001010⟩ + 0.0312|110101100010⟩ - 0.0327|110101101000⟩ + 0.0275|110110000011⟩ + 0.1233|110110000110⟩ - 0.1121|110110001001⟩ + 0.0935|110110001100⟩ - 0.1074|110110010010⟩ + 0.1343|110110011000⟩ + 0.0762|110110100001⟩ - 0.1016|110110100100⟩ + 0.0087|110110110000⟩ + 0.1932|110111000010⟩ - 0.2298|110111001000⟩ + 0.0778|110111100000⟩ - 0.001|111000000111⟩ - 0.0116|111000001101⟩ + 0.0041|111000010011⟩ + 0.0127|111000010110⟩ - 0.0057|111000011001⟩ - 0.0021|111000011100⟩ - 0.007|111000100101⟩ + 0.0356|111000110001⟩ - 0.0392|111000110100⟩ - 0.0275|111001000011⟩ - 0.1121|111001000110⟩ + 0.1233|111001001001⟩ - 0.0935|111001001100⟩ + 0.0762|111001010010⟩ - 0.1016|111001011000⟩ - 0.1074|111001100001⟩ + 0.1343|111001100100⟩ - 0.0087|111001110000⟩ - 0.0112|111010000101⟩ + 0.0312|111010010001⟩ - 0.0327|111010010100⟩ - 0.1932|111011000001⟩ + 0.2298|111011000100⟩ - 0.0778|111011010000⟩ + 0.005|111100000011⟩ + 0.027|111100000110⟩ - 0.027|111100001001⟩ + 0.0221|111100001100⟩ - 0.0378|111100010010⟩ + 0.0616|111100011000⟩ + 0.0378|111100100001⟩ - 0.0616|111100100100⟩ + 0.0438|111100110000⟩ + 0.1412|111101000010⟩ - 0.157|111101001000⟩ + 0.0271|111101100000⟩ - 0.1412|111110000001⟩ + 0.157|111110000100⟩ - 0.0271|111110010000⟩ - 0.1423|111111000000⟩\n"
     ]
    }
   ],
   "source": [
    "state = pqc.qnode(theta_test)\n",
    "# We can visualize the state in dirac notation with the help of cirq. For this, convert it to a numpy array first:\n",
    "print(cirq.dirac_notation(state.detach().numpy(), decimals=4))\n",
    "# Note: for the np_fabric ansatz, we have a up-then-down spin-orbital ordering convention."
   ]
  },
  {
   "cell_type": "markdown",
   "id": "c71946ac",
   "metadata": {},
   "source": [
    "From this state, we can extract the 1- and 2-RDMS:"
   ]
  },
  {
   "cell_type": "code",
   "execution_count": 8,
   "id": "f301092e",
   "metadata": {},
   "outputs": [
    {
     "data": {
      "image/png": "[encoded data removed]",
      "text/plain": [
       "<Figure size 640x480 with 2 Axes>"
      ]
     },
     "metadata": {},
     "output_type": "display_data"
    }
   ],
   "source": [
    "import warnings\n",
    "warnings.simplefilter(\"ignore\", UserWarning)\n",
    "\n",
    "one_rdm, two_rdm = pqc.get_rdms_from_state(state)\n",
    "\n",
    "plt.imshow(one_rdm)\n",
    "plt.yticks(list(range(ncas)))\n",
    "plt.xticks(list(range(ncas)))\n",
    "plt.colorbar()\n",
    "plt.show()"
   ]
  },
  {
   "cell_type": "markdown",
   "id": "3cbdec95",
   "metadata": {},
   "source": [
    "## Make a cost-function with a molecular Hamiltonian"
   ]
  },
  {
   "cell_type": "markdown",
   "id": "3ce73340",
   "metadata": {},
   "source": [
    "### PySCF interface"
   ]
  },
  {
   "cell_type": "markdown",
   "id": "55fbd37f",
   "metadata": {},
   "source": [
    "Lets use formaldimine as an example. The `auto_oo` package is interfaced with PySCF to extract molecular properties using the `auto_oo.Moldata_pyscf` class. ![picture](formaldimine.png)"
   ]
  },
  {
   "cell_type": "code",
   "execution_count": 9,
   "id": "f829301e",
   "metadata": {},
   "outputs": [],
   "source": [
    "def get_formal_geo(alpha, phi):\n",
    "    variables = [1.498047, 1.066797, 0.987109, 118.359375] + [alpha, phi]\n",
    "    geom = \"\"\"\n",
    "                    N\n",
    "                    C 1 {0}\n",
    "                    H 2 {1}  1 {3}\n",
    "                    H 2 {1}  1 {3} 3 180\n",
    "                    H 1 {2}  2 {4} 3 {5}\n",
    "                    \"\"\".format(*variables)\n",
    "    return geom"
   ]
  },
  {
   "cell_type": "code",
   "execution_count": 10,
   "id": "8948ecc6",
   "metadata": {},
   "outputs": [],
   "source": [
    "alpha = 140\n",
    "phi = 80\n",
    "basis = 'sto-3g'\n",
    "mol = auto_oo.Moldata_pyscf(get_formal_geo(alpha,phi), basis)"
   ]
  },
  {
   "cell_type": "code",
   "execution_count": 11,
   "id": "2877c8c3",
   "metadata": {},
   "outputs": [
    {
     "name": "stdout",
     "output_type": "stream",
     "text": [
      "(13, 13)\n",
      "(13, 13, 13, 13)\n"
     ]
    },
    {
     "data": {
      "image/png": "[encoded data removed]",
      "text/plain": [
       "<Figure size 640x480 with 2 Axes>"
      ]
     },
     "metadata": {},
     "output_type": "display_data"
    }
   ],
   "source": [
    "# This class stores the integrals and the overlap matrix for example:\n",
    "print(mol.int1e_ao.shape)\n",
    "print(mol.int2e_ao.shape)\n",
    "plt.title(r'Overlap matrix $S_{\\mu \\nu} = \\langle \\chi_\\mu | \\chi_\\nu \\rangle$')\n",
    "plt.imshow(mol.overlap)\n",
    "plt.colorbar()\n",
    "plt.show()"
   ]
  },
  {
   "cell_type": "markdown",
   "id": "dc200c40",
   "metadata": {},
   "source": [
    "We can also run Hartree-Fock, CASCI or CASSCF with this class:"
   ]
  },
  {
   "cell_type": "code",
   "execution_count": 12,
   "id": "fcac2643",
   "metadata": {},
   "outputs": [],
   "source": [
    "mol.run_rhf()\n",
    "mol.run_casci(ncas, nelecas)\n",
    "mol.run_casscf(ncas, nelecas)"
   ]
  },
  {
   "cell_type": "code",
   "execution_count": 13,
   "id": "9eddee7c",
   "metadata": {},
   "outputs": [
    {
     "name": "stdout",
     "output_type": "stream",
     "text": [
      "Hartree-Fock energy: -92.663722\n",
      "CASCI energy:        -92.760464\n",
      "CASSCF energy:       -92.800776\n"
     ]
    }
   ],
   "source": [
    "print(f'Hartree-Fock energy: {mol.hf.e_tot:.6f}')\n",
    "print(f'CASCI energy:        {mol.casci.e_tot:.6f}')\n",
    "print(f'CASSCF energy:       {mol.casscf.e_tot:.6f}')"
   ]
  },
  {
   "cell_type": "markdown",
   "id": "3d0eb3e1",
   "metadata": {},
   "source": [
    "### Orbital Optimized energies and Hamiltonians"
   ]
  },
  {
   "cell_type": "markdown",
   "id": "376741e2",
   "metadata": {},
   "source": [
    "To extract Hamiltonian and energies in different MO basis, feed it into the `OO_energy` class. If you the user does not input any MO coefficients, it defaults to Hartree-Fock MOs."
   ]
  },
  {
   "cell_type": "code",
   "execution_count": 14,
   "id": "152750ac",
   "metadata": {},
   "outputs": [],
   "source": [
    "oo_energy = auto_oo.OO_energy(mol, ncas, nelecas)"
   ]
  },
  {
   "cell_type": "code",
   "execution_count": 15,
   "id": "7d6b70a7",
   "metadata": {},
   "outputs": [
    {
     "data": {
      "text/plain": [
       "True"
      ]
     },
     "execution_count": 15,
     "metadata": {},
     "output_type": "execute_result"
    }
   ],
   "source": [
    "# Test if the MOs are indeed HF:\n",
    "np.allclose(oo_energy.mo_coeff.detach().numpy(), mol.hf.mo_coeff)"
   ]
  },
  {
   "cell_type": "markdown",
   "id": "48888f4b",
   "metadata": {},
   "source": [
    "We can compute the active space energy with the RDMs from the `pqc` class. In an active space, the total energy is given by:\n",
    "$$\n",
    "    E = E_{\\rm nuc} + E_{\\rm core} +\n",
    "    \\sum_{pq}\\tilde{h}_{pq} \\gamma_{pq} +\n",
    "    \\sum_{pqrs} g_{pqrs} \\Gamma_{pqrs}\n",
    "$$\n",
    "where $E_{core}$ is the mean-field energy of the core (doubly-occupied) orbitals,\n",
    "$\\tilde{h}_{pq}$ is contains the active one-body terms plus the mean-field\n",
    "interaction of core-active orbitals and $g_{pqrs}$ are the active integrals\n",
    "in chemist ordering."
   ]
  },
  {
   "cell_type": "code",
   "execution_count": 16,
   "id": "a27e372e",
   "metadata": {},
   "outputs": [],
   "source": [
    "energy_random_theta = oo_energy.energy_from_mo_coeff(oo_energy.mo_coeff, one_rdm, two_rdm).item()"
   ]
  },
  {
   "cell_type": "code",
   "execution_count": 17,
   "id": "42a3e2c4",
   "metadata": {},
   "outputs": [
    {
     "name": "stdout",
     "output_type": "stream",
     "text": [
      "Energy with a random theta: -91.894860\n"
     ]
    }
   ],
   "source": [
    "print(f'Energy with a random theta: {energy_random_theta:.6f}')"
   ]
  },
  {
   "cell_type": "markdown",
   "id": "7e7085df",
   "metadata": {},
   "source": [
    "Of course, the energy with a random theta is not great. While the `auto_oo` package is really only meant to give you primitives of energies and parameter derivatives, there is a method included to optimize the orbitals, that uses the  We can however optimize the orbitals for this specific state by calling the `orbital_optimization` method."
   ]
  },
  {
   "cell_type": "code",
   "execution_count": 18,
   "id": "6dc44eb1",
   "metadata": {},
   "outputs": [],
   "source": [
    "# For information on the Newton-Rapshon optimization procedure:\n",
    "# auto_oo.NewtonStep?"
   ]
  },
  {
   "cell_type": "code",
   "execution_count": 19,
   "id": "ac3214a7",
   "metadata": {},
   "outputs": [
    {
     "name": "stdout",
     "output_type": "stream",
     "text": [
      "iter = 000, energy = -92.325534104004\n",
      "iter = 001, energy = -92.398997600943\n",
      "iter = 002, energy = -92.404432018839\n",
      "iter = 003, energy = -92.540704713267\n",
      "iter = 004, energy = -92.592452929443\n",
      "iter = 005, energy = -92.610446871326\n",
      "iter = 006, energy = -92.632840918625\n",
      "iter = 007, energy = -92.633280365014\n",
      "iter = 008, energy = -92.638516411119\n",
      "iter = 009, energy = -92.645137300344\n",
      "iter = 010, energy = -92.645547936775\n",
      "iter = 011, energy = -92.645556701338\n",
      "iter = 012, energy = -92.645556711707\n",
      "iter = 013, energy = -92.645556711707\n"
     ]
    }
   ],
   "source": [
    "energy_l = oo_energy.orbital_optimization(one_rdm, two_rdm)"
   ]
  },
  {
   "cell_type": "code",
   "execution_count": 20,
   "id": "e2170197",
   "metadata": {
    "scrolled": true
   },
   "outputs": [
    {
     "data": {
      "image/png": "[encoded data removed]",
      "text/plain": [
       "<Figure size 640x480 with 1 Axes>"
      ]
     },
     "metadata": {},
     "output_type": "display_data"
    }
   ],
   "source": [
    "plt.plot(energy_l, '.-r', label='Orbital optimization')\n",
    "plt.axhline(mol.casscf.e_tot, ls='--', c='k', label='CASSCF energy')\n",
    "plt.legend()\n",
    "plt.show()"
   ]
  },
  {
   "cell_type": "markdown",
   "id": "3d19832b",
   "metadata": {},
   "source": [
    "## Optimizing a circuit \n",
    "While this gives us optimized orbitals for a random theta, a user usually often interested in optimizing he parameters as well. Lets do it for our optimized orbitals in the previous part. As this is not functionality that is inside `auto_oo`, we can import from PyTorch a gradient descent optimizer. "
   ]
  },
  {
   "cell_type": "markdown",
   "id": "7e74c25b",
   "metadata": {},
   "source": [
    "First, extract the active space Hamiltonian"
   ]
  },
  {
   "cell_type": "code",
   "execution_count": 21,
   "id": "c03f09e4",
   "metadata": {},
   "outputs": [],
   "source": [
    "# We can extract the Hamiltonian as an openfermion FermionOperator for the optimized orbitals\n",
    "c0, c1, c2 = oo_energy.get_active_integrals(torch.from_numpy(mol.hf.mo_coeff))\n",
    "# c0, c1, c2 = oo_energy.get_active_integrals(oo_energy.mo_coeff)\n",
    "fermionic_cas_hamiltonian = auto_oo.fermionic_cas_hamiltonian(c0, c1, c2)"
   ]
  },
  {
   "cell_type": "code",
   "execution_count": 22,
   "id": "91a6cd2e",
   "metadata": {
    "scrolled": true
   },
   "outputs": [
    {
     "name": "stdout",
     "output_type": "stream",
     "text": [
      "For the optimized orbitals, the CASCI ground state energy is: -92.760464\n"
     ]
    }
   ],
   "source": [
    "fch_energies = openfermion.eigenspectrum(fermionic_cas_hamiltonian)\n",
    "e_0 = fch_energies[0]\n",
    "print(f'Based on HF orbitals, the CASCI ground state energy is: {e_0:.6f}')"
   ]
  },
  {
   "cell_type": "code",
   "execution_count": 23,
   "id": "e4219195",
   "metadata": {},
   "outputs": [],
   "source": [
    "qubit_cas_hamiltonian = openfermion.jordan_wigner(fermionic_cas_hamiltonian)"
   ]
  },
  {
   "cell_type": "code",
   "execution_count": 24,
   "id": "e3f08ac2",
   "metadata": {},
   "outputs": [],
   "source": [
    "pennylane_cas_hamiltonian = qml.qchem.import_operator(qubit_cas_hamiltonian)"
   ]
  },
  {
   "cell_type": "code",
   "execution_count": 25,
   "id": "5a218f4a",
   "metadata": {},
   "outputs": [],
   "source": [
    "@qml.qnode(dev, interface='torch', diff_method='backprop')\n",
    "def cost_function(theta):\n",
    "    \"\"\" Outputs NP fabric ansatz state\"\"\"\n",
    "    qml.GateFabric(theta,\n",
    "                   wires=pqc.wires, init_state=pqc.hfstate, include_pi=False)\n",
    "    return qml.expval(pennylane_cas_hamiltonian)"
   ]
  },
  {
   "cell_type": "code",
   "execution_count": 26,
   "id": "80ea544a",
   "metadata": {},
   "outputs": [
    {
     "name": "stdout",
     "output_type": "stream",
     "text": [
      "Zero parameters give us an energy of:       -92.663722\n",
      "Should be equal to the Hartree-Fock energy: -92.663722\n"
     ]
    }
   ],
   "source": [
    "# theta = torch.zeros(len(pqc.redundant_idx) + pqc.theta_shape)\n",
    "# theta[pqc.params_idx] = theta_test\n",
    "# theta = theta.reshape(pqc.full_theta_shape)\n",
    "theta = torch.zeros(pqc.full_theta_shape)\n",
    "theta.requires_grad = True\n",
    "\n",
    "energy_init = cost_function(theta).item()\n",
    "# print(\"starting with random theta optimized orbitals gives us: energy_init)\n",
    "print(f'Zero parameters give us an energy of:       {energy_init:.6f}')\n",
    "print(f'Should be equal to the Hartree-Fock energy: {mol.hf.e_tot:.6f}')"
   ]
  },
  {
   "cell_type": "code",
   "execution_count": 27,
   "id": "178c2795",
   "metadata": {},
   "outputs": [],
   "source": [
    "# Define hyperparameters of the VQE optimization\n",
    "max_iterations = 400\n",
    "conv_tol = 1e-7\n",
    "stepsize = 0.01\n",
    "e_min = 1e99\n",
    "\n",
    "\n",
    "# Save results in\n",
    "opt_trajectory = [energy_init]\n",
    "theta_trajectory = [theta.detach().clone()]"
   ]
  },
  {
   "cell_type": "code",
   "execution_count": 28,
   "id": "a11d65e8",
   "metadata": {},
   "outputs": [],
   "source": [
    "opt = torch.optim.Adam([theta],lr=stepsize)"
   ]
  },
  {
   "cell_type": "code",
   "execution_count": 29,
   "id": "9a4fe52c",
   "metadata": {},
   "outputs": [],
   "source": [
    "torch.set_num_threads(16)"
   ]
  },
  {
   "cell_type": "code",
   "execution_count": 30,
   "id": "ca53ba85",
   "metadata": {
    "scrolled": true
   },
   "outputs": [
    {
     "name": "stdout",
     "output_type": "stream",
     "text": [
      "iter, e = 0 -92.6663728419977\n",
      "iter, e = 1 -92.66901887299909\n",
      "iter, e = 2 -92.67171778494102\n",
      "iter, e = 3 -92.6747224714249\n",
      "iter, e = 4 -92.67791998487296\n",
      "iter, e = 5 -92.68118010955448\n",
      "iter, e = 6 -92.68442465137643\n",
      "iter, e = 7 -92.68771043530981\n",
      "iter, e = 8 -92.69104872898721\n",
      "iter, e = 9 -92.6943220166133\n",
      "iter, e = 10 -92.69743712195118\n",
      "iter, e = 11 -92.70042623693341\n",
      "iter, e = 12 -92.70341228510969\n",
      "iter, e = 13 -92.70651613026966\n",
      "iter, e = 14 -92.70978538292367\n",
      "iter, e = 15 -92.71318239359013\n",
      "iter, e = 16 -92.71662151325562\n",
      "iter, e = 17 -92.72000193377798\n",
      "iter, e = 18 -92.72322283124353\n",
      "iter, e = 19 -92.72619577983492\n",
      "iter, e = 20 -92.72886779722342\n",
      "iter, e = 21 -92.73123930916019\n",
      "iter, e = 22 -92.7333422744075\n",
      "iter, e = 23 -92.73519547164825\n",
      "iter, e = 24 -92.73678073787136\n",
      "iter, e = 25 -92.73805191159317\n",
      "iter, e = 26 -92.7389732894504\n",
      "iter, e = 27 -92.73956176819831\n",
      "iter, e = 28 -92.73988812632594\n",
      "iter, e = 29 -92.74003583968185\n",
      "iter, e = 30 -92.74007439912465\n",
      "iter, e = 31 -92.74006107946488\n",
      "iter, e = 32 -92.74003719164376\n",
      "iter, e = 33 -92.74002936125076\n",
      "iter, e = 34 -92.74006864930953\n",
      "iter, e = 35 -92.74019404492098\n",
      "iter, e = 36 -92.7404305699558\n",
      "iter, e = 37 -92.74077563276687\n",
      "iter, e = 38 -92.74120787753498\n",
      "iter, e = 39 -92.74169895870733\n",
      "iter, e = 40 -92.74222028796684\n",
      "iter, e = 41 -92.74275117312361\n",
      "iter, e = 42 -92.74328156849205\n",
      "iter, e = 43 -92.7438018157067\n",
      "iter, e = 44 -92.74429280101401\n",
      "iter, e = 45 -92.74473045272721\n",
      "iter, e = 46 -92.7450963957671\n",
      "iter, e = 47 -92.74538255867948\n",
      "iter, e = 48 -92.74559138259595\n",
      "iter, e = 49 -92.74573480629172\n",
      "iter, e = 50 -92.74582904642868\n",
      "iter, e = 51 -92.74588783849279\n",
      "iter, e = 52 -92.74592173490095\n",
      "iter, e = 53 -92.7459414934101\n",
      "iter, e = 54 -92.74595817575569\n",
      "iter, e = 55 -92.7459808830953\n",
      "iter, e = 56 -92.74601602622782\n",
      "iter, e = 57 -92.74606667052613\n",
      "iter, e = 58 -92.74613172384473\n",
      "iter, e = 59 -92.74620782928035\n",
      "iter, e = 60 -92.74629215974329\n",
      "iter, e = 61 -92.74638229841113\n",
      "iter, e = 62 -92.7464749039228\n",
      "iter, e = 63 -92.74656600522019\n",
      "iter, e = 64 -92.74665188078026\n",
      "iter, e = 65 -92.74672977936807\n",
      "iter, e = 66 -92.74679910378516\n",
      "iter, e = 67 -92.7468615278757\n",
      "iter, e = 68 -92.74691919246237\n",
      "iter, e = 69 -92.74697349984316\n",
      "iter, e = 70 -92.74702562478232\n",
      "iter, e = 71 -92.74707701718543\n",
      "iter, e = 72 -92.74712937604592\n",
      "iter, e = 73 -92.74718444474792\n",
      "iter, e = 74 -92.74724323474761\n",
      "iter, e = 75 -92.74730545220051\n",
      "iter, e = 76 -92.7473701292429\n",
      "iter, e = 77 -92.74743636940353\n",
      "iter, e = 78 -92.74750329341468\n",
      "iter, e = 79 -92.7475698932737\n",
      "iter, e = 80 -92.74763509677108\n",
      "iter, e = 81 -92.74769792665005\n",
      "iter, e = 82 -92.74775795377384\n",
      "iter, e = 83 -92.74781555138773\n",
      "iter, e = 84 -92.7478714467704\n",
      "iter, e = 85 -92.7479262363542\n",
      "iter, e = 86 -92.74798037210692\n",
      "iter, e = 87 -92.74803431072833\n",
      "iter, e = 88 -92.74808864760168\n",
      "iter, e = 89 -92.74814409859077\n",
      "iter, e = 90 -92.74820119725165\n",
      "iter, e = 91 -92.74826010103268\n",
      "iter, e = 92 -92.74832074754646\n",
      "iter, e = 93 -92.74838301928932\n",
      "iter, e = 94 -92.74844676779114\n",
      "iter, e = 95 -92.7485117989013\n",
      "iter, e = 96 -92.74857783162116\n",
      "iter, e = 97 -92.74864454426532\n",
      "iter, e = 98 -92.7487117178467\n",
      "iter, e = 99 -92.7487792511735\n",
      "iter, e = 100 -92.74884706156526\n",
      "iter, e = 101 -92.74891505238679\n",
      "iter, e = 102 -92.74898314003791\n",
      "iter, e = 103 -92.74905129769905\n",
      "iter, e = 104 -92.74911957493183\n",
      "iter, e = 105 -92.74918802739833\n",
      "iter, e = 106 -92.74925664909327\n",
      "iter, e = 107 -92.74932539711723\n",
      "iter, e = 108 -92.74939422676314\n",
      "iter, e = 109 -92.74946308913323\n",
      "iter, e = 110 -92.74953191295909\n",
      "iter, e = 111 -92.7496005854364\n",
      "iter, e = 112 -92.74966897414012\n",
      "iter, e = 113 -92.74973696922693\n",
      "iter, e = 114 -92.74980447648991\n",
      "iter, e = 115 -92.74987138638441\n",
      "iter, e = 116 -92.7499375665373\n",
      "iter, e = 117 -92.75000287381103\n",
      "iter, e = 118 -92.75006717378903\n",
      "iter, e = 119 -92.75013034086793\n",
      "iter, e = 120 -92.75019223825198\n",
      "iter, e = 121 -92.75025271914551\n",
      "iter, e = 122 -92.75031164681191\n",
      "iter, e = 123 -92.75036890394662\n",
      "iter, e = 124 -92.75042438979614\n",
      "iter, e = 125 -92.75047801211697\n",
      "iter, e = 126 -92.75052968686049\n",
      "iter, e = 127 -92.75057934785065\n",
      "iter, e = 128 -92.75062694697061\n",
      "iter, e = 129 -92.75067244613598\n",
      "iter, e = 130 -92.75071581576496\n",
      "iter, e = 131 -92.75075703848255\n",
      "iter, e = 132 -92.75079611510941\n",
      "iter, e = 133 -92.75083306847905\n",
      "iter, e = 134 -92.75086794149799\n",
      "iter, e = 135 -92.75090079510629\n",
      "iter, e = 136 -92.75093170624992\n",
      "iter, e = 137 -92.75096076390595\n",
      "iter, e = 138 -92.75098806564577\n",
      "iter, e = 139 -92.75101371351984\n",
      "iter, e = 140 -92.75103781106829\n",
      "iter, e = 141 -92.75106046445909\n",
      "iter, e = 142 -92.75108178356875\n",
      "iter, e = 143 -92.75110188008854\n",
      "iter, e = 144 -92.75112086299553\n",
      "iter, e = 145 -92.75113883364207\n",
      "iter, e = 146 -92.75115588366586\n",
      "iter, e = 147 -92.75117209409765\n",
      "iter, e = 148 -92.75118753446739\n",
      "iter, e = 149 -92.75120226438943\n",
      "iter, e = 150 -92.75121633719054\n",
      "iter, e = 151 -92.75122980311569\n",
      "iter, e = 152 -92.75124271026782\n",
      "iter, e = 153 -92.75125510343082\n",
      "iter, e = 154 -92.75126702334677\n",
      "iter, e = 155 -92.75127850690185\n",
      "iter, e = 156 -92.75128958738544\n",
      "iter, e = 157 -92.75130029520635\n",
      "iter, e = 158 -92.75131065884726\n",
      "iter, e = 159 -92.75132070572097\n",
      "iter, e = 160 -92.75133046257332\n",
      "iter, e = 161 -92.75133995517484\n",
      "iter, e = 162 -92.75134920800042\n",
      "iter, e = 163 -92.7513582441422\n",
      "iter, e = 164 -92.75136708548209\n",
      "iter, e = 165 -92.75137575311336\n",
      "iter, e = 166 -92.75138426744373\n",
      "iter, e = 167 -92.75139264804477\n",
      "iter, e = 168 -92.75140091349837\n",
      "iter, e = 169 -92.75140908122599\n",
      "iter, e = 170 -92.75141716725146\n",
      "iter, e = 171 -92.7514251858635\n",
      "iter, e = 172 -92.75143314949345\n",
      "iter, e = 173 -92.75144106892807\n",
      "iter, e = 174 -92.75144895353105\n",
      "iter, e = 175 -92.75145681140673\n",
      "iter, e = 176 -92.7514646495741\n",
      "iter, e = 177 -92.75147247415596\n",
      "iter, e = 178 -92.75148029049654\n",
      "iter, e = 179 -92.75148810311883\n",
      "iter, e = 180 -92.75149591574338\n",
      "iter, e = 181 -92.751503731442\n",
      "iter, e = 182 -92.75151155283783\n",
      "iter, e = 183 -92.75151938229779\n",
      "iter, e = 184 -92.7515272220648\n",
      "iter, e = 185 -92.75153507434625\n",
      "iter, e = 186 -92.75154294136715\n",
      "iter, e = 187 -92.75155082537651\n",
      "iter, e = 188 -92.75155872869043\n",
      "iter, e = 189 -92.75156665373368\n",
      "iter, e = 190 -92.7515746031152\n",
      "iter, e = 191 -92.75158257965785\n",
      "iter, e = 192 -92.75159058640415\n",
      "iter, e = 193 -92.7515986265712\n",
      "iter, e = 194 -92.75160670347734\n",
      "iter, e = 195 -92.75161482053434\n",
      "iter, e = 196 -92.75162298120077\n",
      "iter, e = 197 -92.75163118897207\n",
      "iter, e = 198 -92.75163944736258\n",
      "iter, e = 199 -92.7516477599046\n",
      "iter, e = 200 -92.75165613013922\n",
      "iter, e = 201 -92.75166456159744\n",
      "iter, e = 202 -92.75167305778427\n",
      "iter, e = 203 -92.75168162218473\n",
      "iter, e = 204 -92.75169025826082\n",
      "iter, e = 205 -92.75169896945984\n",
      "iter, e = 206 -92.75170775922089\n",
      "iter, e = 207 -92.75171663100033\n",
      "iter, e = 208 -92.75172558829308\n",
      "iter, e = 209 -92.75173463464583\n",
      "iter, e = 210 -92.75174377367104\n",
      "iter, e = 211 -92.75175300906588\n",
      "iter, e = 212 -92.75176234461978\n",
      "iter, e = 213 -92.75177178423402\n",
      "iter, e = 214 -92.75178133193235\n",
      "iter, e = 215 -92.7517909918856\n",
      "iter, e = 216 -92.75180076841595\n",
      "iter, e = 217 -92.75181066601112\n",
      "iter, e = 218 -92.7518206893314\n",
      "iter, e = 219 -92.75183084322423\n",
      "iter, e = 220 -92.75184113274078\n",
      "iter, e = 221 -92.75185156315685\n",
      "iter, e = 222 -92.75186213999986\n",
      "iter, e = 223 -92.75187286907389\n",
      "iter, e = 224 -92.75188375648287\n",
      "iter, e = 225 -92.75189480866177\n",
      "iter, e = 226 -92.75190603240164\n",
      "iter, e = 227 -92.75191743488635\n",
      "iter, e = 228 -92.75192902373092\n",
      "iter, e = 229 -92.75194080701735\n",
      "iter, e = 230 -92.75195279333992\n",
      "iter, e = 231 -92.7519649918435\n",
      "iter, e = 232 -92.75197741225738\n",
      "iter, e = 233 -92.75199006494547\n",
      "iter, e = 234 -92.75200296093665\n",
      "iter, e = 235 -92.75201611195979\n",
      "iter, e = 236 -92.75202953047791\n",
      "iter, e = 237 -92.75204322971896\n",
      "iter, e = 238 -92.75205722369228\n",
      "iter, e = 239 -92.75207152721165\n",
      "iter, e = 240 -92.75208615590941\n",
      "iter, e = 241 -92.75210112625021\n",
      "iter, e = 242 -92.75211645553821\n",
      "iter, e = 243 -92.75213216192547\n",
      "iter, e = 244 -92.75214826441733\n",
      "iter, e = 245 -92.75216478287606\n",
      "iter, e = 246 -92.75218173802172\n",
      "iter, e = 247 -92.75219915143234\n",
      "iter, e = 248 -92.7522170455405\n",
      "iter, e = 249 -92.75223544362191\n",
      "iter, e = 250 -92.75225436979431\n",
      "iter, e = 251 -92.752273848992\n",
      "iter, e = 252 -92.75229390695539\n"
     ]
    },
    {
     "name": "stdout",
     "output_type": "stream",
     "text": [
      "iter, e = 253 -92.75231457020794\n",
      "iter, e = 254 -92.75233586602229\n",
      "iter, e = 255 -92.75235782239696\n",
      "iter, e = 256 -92.75238046800506\n",
      "iter, e = 257 -92.7524038321654\n",
      "iter, e = 258 -92.7524279447775\n",
      "iter, e = 259 -92.75245283627125\n",
      "iter, e = 260 -92.75247853754125\n",
      "iter, e = 261 -92.75250507986803\n",
      "iter, e = 262 -92.75253249484352\n",
      "iter, e = 263 -92.75256081427739\n",
      "iter, e = 264 -92.7525900701054\n",
      "iter, e = 265 -92.7526202942746\n",
      "iter, e = 266 -92.75265151863799\n",
      "iter, e = 267 -92.75268377482048\n",
      "iter, e = 268 -92.75271709408237\n",
      "iter, e = 269 -92.75275150716686\n",
      "iter, e = 270 -92.75278704413766\n",
      "iter, e = 271 -92.75282373419275\n",
      "iter, e = 272 -92.7528616054746\n",
      "iter, e = 273 -92.75290068485712\n",
      "iter, e = 274 -92.75294099772604\n",
      "iter, e = 275 -92.75298256772568\n",
      "iter, e = 276 -92.75302541652077\n",
      "iter, e = 277 -92.7530695635084\n",
      "iter, e = 278 -92.75311502553988\n",
      "iter, e = 279 -92.7531618166187\n",
      "iter, e = 280 -92.75320994757767\n",
      "iter, e = 281 -92.75325942576394\n",
      "iter, e = 282 -92.75331025469397\n",
      "iter, e = 283 -92.75336243372016\n",
      "iter, e = 284 -92.7534159576817\n",
      "iter, e = 285 -92.753470816568\n",
      "iter, e = 286 -92.7535269951771\n",
      "iter, e = 287 -92.75358447279795\n",
      "iter, e = 288 -92.75364322290403\n",
      "iter, e = 289 -92.75370321286736\n",
      "iter, e = 290 -92.75376440371568\n",
      "iter, e = 291 -92.75382674991963\n",
      "iter, e = 292 -92.75389019922747\n",
      "iter, e = 293 -92.75395469255976\n",
      "iter, e = 294 -92.75402016396187\n",
      "iter, e = 295 -92.75408654063033\n",
      "iter, e = 296 -92.75415374302148\n",
      "iter, e = 297 -92.75422168503742\n",
      "iter, e = 298 -92.75429027430863\n",
      "iter, e = 299 -92.75435941258253\n",
      "iter, e = 300 -92.75442899619996\n",
      "iter, e = 301 -92.75449891667957\n",
      "iter, e = 302 -92.75456906140711\n",
      "iter, e = 303 -92.75463931441638\n",
      "iter, e = 304 -92.75470955726905\n",
      "iter, e = 305 -92.75477967000431\n",
      "iter, e = 306 -92.7548495321719\n",
      "iter, e = 307 -92.75491902391002\n",
      "iter, e = 308 -92.75498802706461\n",
      "iter, e = 309 -92.75505642631452\n",
      "iter, e = 310 -92.75512411029523\n",
      "iter, e = 311 -92.75519097268845\n",
      "iter, e = 312 -92.7552569132466\n",
      "iter, e = 313 -92.75532183874125\n",
      "iter, e = 314 -92.75538566380416\n",
      "iter, e = 315 -92.75544831164667\n",
      "iter, e = 316 -92.75550971462542\n",
      "iter, e = 317 -92.75556981467673\n",
      "iter, e = 318 -92.7556285635625\n",
      "iter, e = 319 -92.75568592296813\n",
      "iter, e = 320 -92.75574186442864\n",
      "iter, e = 321 -92.75579636909595\n",
      "iter, e = 322 -92.75584942734639\n",
      "iter, e = 323 -92.75590103826167\n",
      "iter, e = 324 -92.75595120895949\n",
      "iter, e = 325 -92.75599995384862\n",
      "iter, e = 326 -92.7560472937585\n",
      "iter, e = 327 -92.7560932550347\n",
      "iter, e = 328 -92.75613786857002\n",
      "iter, e = 329 -92.75618116884131\n",
      "iter, e = 330 -92.75622319295235\n",
      "iter, e = 331 -92.75626397972935\n",
      "iter, e = 332 -92.75630356888084\n",
      "iter, e = 333 -92.75634200025493\n",
      "iter, e = 334 -92.7563793132152\n",
      "iter, e = 335 -92.75641554613361\n",
      "iter, e = 336 -92.75645073601552\n",
      "iter, e = 337 -92.75648491824779\n",
      "iter, e = 338 -92.75651812646171\n",
      "iter, e = 339 -92.75655039249075\n",
      "iter, e = 340 -92.75658174640442\n",
      "iter, e = 341 -92.75661221659254\n",
      "iter, e = 342 -92.75664182988746\n",
      "iter, e = 343 -92.75667061168238\n",
      "iter, e = 344 -92.75669858606551\n",
      "iter, e = 345 -92.75672577591438\n",
      "iter, e = 346 -92.75675220298591\n",
      "iter, e = 347 -92.75677788796504\n",
      "iter, e = 348 -92.75680285051193\n",
      "iter, e = 349 -92.75682710926432\n",
      "iter, e = 350 -92.75685068185304\n",
      "iter, e = 351 -92.75687358488442\n",
      "iter, e = 352 -92.75689583394806\n",
      "iter, e = 353 -92.75691744360869\n",
      "iter, e = 354 -92.75693842741192\n",
      "iter, e = 355 -92.75695879791215\n",
      "iter, e = 356 -92.75697856669863\n",
      "iter, e = 357 -92.75699774445806\n",
      "iter, e = 358 -92.75701634104203\n",
      "iter, e = 359 -92.757034365563\n",
      "iter, e = 360 -92.75705182649868\n",
      "iter, e = 361 -92.75706873182763\n",
      "iter, e = 362 -92.75708508915942\n",
      "iter, e = 363 -92.75710090588758\n",
      "iter, e = 364 -92.7571161893381\n",
      "iter, e = 365 -92.75713094690973\n",
      "iter, e = 366 -92.75714518621804\n",
      "iter, e = 367 -92.75715891521381\n",
      "iter, e = 368 -92.75717214228919\n",
      "iter, e = 369 -92.75718487635822\n",
      "iter, e = 370 -92.7571971269217\n",
      "iter, e = 371 -92.75720890409866\n",
      "iter, e = 372 -92.75722021863912\n",
      "iter, e = 373 -92.75723108191077\n",
      "iter, e = 374 -92.7572415058611\n",
      "iter, e = 375 -92.7572515029777\n",
      "iter, e = 376 -92.75726108620455\n",
      "iter, e = 377 -92.75727026887022\n",
      "iter, e = 378 -92.75727906460352\n",
      "iter, e = 379 -92.75728748723756\n",
      "iter, e = 380 -92.75729555072526\n",
      "iter, e = 381 -92.75730326905133\n",
      "iter, e = 382 -92.75731065615484\n",
      "iter, e = 383 -92.75731772586414\n",
      "iter, e = 384 -92.757324491829\n",
      "iter, e = 385 -92.75733096747801\n",
      "iter, e = 386 -92.75733716597482\n",
      "iter, e = 387 -92.75734310018424\n",
      "iter, e = 388 -92.75734878265037\n",
      "iter, e = 389 -92.75735422557537\n",
      "iter, e = 390 -92.75735944080358\n",
      "iter, e = 391 -92.75736443981059\n",
      "iter, e = 392 -92.75736923369017\n",
      "iter, e = 393 -92.75737383314829\n",
      "iter, e = 394 -92.75737824849719\n",
      "iter, e = 395 -92.75738248964531\n",
      "iter, e = 396 -92.75738656609668\n",
      "iter, e = 397 -92.75739048695051\n",
      "iter, e = 398 -92.7573942608969\n",
      "iter, e = 399 -92.75739789623012\n"
     ]
    }
   ],
   "source": [
    "for n in range(max_iterations):\n",
    "\n",
    "    opt.zero_grad()\n",
    "    loss = cost_function(theta)\n",
    "    loss.backward()\n",
    "    opt.step()\n",
    "\n",
    "    curr_energy = cost_function(theta).item()\n",
    "\n",
    "    print('iter, e =', n, curr_energy)\n",
    "    opt_trajectory.append(curr_energy)\n",
    "    theta_trajectory.append(theta.detach().clone())\n",
    "\n",
    "    if curr_energy < e_min:\n",
    "        e_min = curr_energy\n",
    "        n_min = n\n",
    "        theta_min = theta.detach().clone()\n",
    "\n",
    "    if n > 1:\n",
    "        if (np.abs(opt_trajectory[-1] - opt_trajectory[-2])\\\n",
    "            < conv_tol):\n",
    "            print(\"\\nVQE converged\")\n",
    "            print(f'VQE energy: {opt_trajectory[-1]:.6f}')\n",
    "            print(f'CASCI energy:  {mol.casci.e_tot:.6f}')\n",
    "            break\n"
   ]
  },
  {
   "cell_type": "code",
   "execution_count": 31,
   "id": "73816f22",
   "metadata": {},
   "outputs": [
    {
     "data": {
      "image/png": "[encoded data removed]",
      "text/plain": [
       "<Figure size 640x480 with 1 Axes>"
      ]
     },
     "metadata": {},
     "output_type": "display_data"
    }
   ],
   "source": [
    "plt.plot(opt_trajectory, '.-r', label='VQE optimization')\n",
    "plt.axhline(mol.hf.e_tot, ls='--', c='k', label='HF energy')\n",
    "plt.axhline(mol.casci.e_tot, ls='--', c='k', label='CASCI energy')\n",
    "plt.legend()\n",
    "plt.show()"
   ]
  },
  {
   "cell_type": "markdown",
   "id": "78932df4",
   "metadata": {},
   "source": [
    "## Put the parameterized quantum circuit together with `OO_energy` with `OO_pqc_cost`\n",
    "\n",
    "If you want a cost function dependent on both quantum circuit and orbital rotation parameters, use the `OO_energy` child class `OO_pqc_cost`. With this you can compute gradients to both parameters, and including composite Hessians."
   ]
  },
  {
   "cell_type": "code",
   "execution_count": 32,
   "id": "3ae06fd0",
   "metadata": {},
   "outputs": [],
   "source": [
    "oo_pqc = auto_oo.OO_pqc_cost(pqc, mol, ncas, nelecas, freeze_active=True)"
   ]
  },
  {
   "cell_type": "code",
   "execution_count": 33,
   "id": "1b3ebc4a",
   "metadata": {},
   "outputs": [
    {
     "data": {
      "text/plain": [
       "torch.Size([80, 80])"
      ]
     },
     "execution_count": 33,
     "metadata": {},
     "output_type": "execute_result"
    }
   ],
   "source": [
    "oo_pqc.full_hessian(theta_test).shape"
   ]
  },
  {
   "cell_type": "code",
   "execution_count": 35,
   "id": "f884a5c1",
   "metadata": {},
   "outputs": [
    {
     "name": "stdout",
     "output_type": "stream",
     "text": [
      "iter = 000, energy = -92.128639114556\n",
      "lowest eigval hessian = -0.7745783959081267\n",
      "augmenting hessian...\n",
      "Lowest eigenvalue of augmented hessian: 0.0774588395908257\n",
      "new energy: -92.57754788351467\n",
      "old energy: -92.12863911455553\n",
      "wolfe: tensor(-5.6150e-05)\n",
      "iter = 001, energy = -92.577547883515\n",
      "lowest eigval hessian = -0.20931097454904085\n",
      "augmenting hessian...\n",
      "Lowest eigenvalue of augmented hessian: 0.020932097454911206\n",
      "new energy: -92.60332383813237\n",
      "old energy: -92.57754788351468\n",
      "wolfe: tensor(-2.0228e-05)\n",
      "iter = 002, energy = -92.603323838132\n",
      "lowest eigval hessian = -0.21309053672070177\n",
      "augmenting hessian...\n",
      "Lowest eigenvalue of augmented hessian: 0.02131005367206345\n",
      "test_energy: -92.54531985926701 ... old energy: -92.60332383813235\n",
      "do backtracking line search...\n",
      "t = 0.5\n",
      "new energy: -92.71783400247989\n",
      "old energy: -92.60332383813235\n",
      "wolfe: tensor(-1.3729e-05)\n",
      "iter = 003, energy = -92.717834002480\n",
      "lowest eigval hessian = -0.05391891086617448\n",
      "augmenting hessian...\n",
      "Lowest eigenvalue of augmented hessian: 0.005392891086613341\n",
      "new energy: -92.75112055952653\n",
      "old energy: -92.71783400247988\n",
      "wolfe: tensor(-3.9403e-06)\n",
      "iter = 004, energy = -92.751120559527\n",
      "lowest eigval hessian = -0.03161045738890199\n",
      "augmenting hessian...\n",
      "Lowest eigenvalue of augmented hessian: 0.0031620457388921762\n",
      "test_energy: -92.21300413500997 ... old energy: -92.75112055952656\n",
      "do backtracking line search...\n",
      "t = 0.5\n",
      "t = 0.25\n",
      "new energy: -92.7657904692077\n",
      "old energy: -92.75112055952656\n",
      "wolfe: tensor(-1.1731e-06)\n",
      "iter = 005, energy = -92.765790469208\n",
      "lowest eigval hessian = -0.019464446449090816\n",
      "augmenting hessian...\n",
      "Lowest eigenvalue of augmented hessian: 0.001947444644905713\n",
      "test_energy: -92.56486413751982 ... old energy: -92.76579046920769\n",
      "do backtracking line search...\n",
      "t = 0.5\n",
      "new energy: -92.7668546508907\n",
      "old energy: -92.76579046920769\n",
      "wolfe: tensor(-1.1706e-06)\n",
      "iter = 006, energy = -92.766854650891\n",
      "lowest eigval hessian = -0.03839390828752537\n",
      "augmenting hessian...\n",
      "Lowest eigenvalue of augmented hessian: 0.0038403908287540775\n",
      "test_energy: -92.71168443448136 ... old energy: -92.76685465089068\n",
      "do backtracking line search...\n",
      "t = 0.5\n",
      "new energy: -92.77263859442044\n",
      "old energy: -92.76685465089068\n",
      "wolfe: tensor(-1.0828e-06)\n",
      "iter = 007, energy = -92.772638594420\n",
      "lowest eigval hessian = -0.01627600258597555\n",
      "augmenting hessian...\n",
      "Lowest eigenvalue of augmented hessian: 0.0016286002585981748\n",
      "new energy: -92.77683572346807\n",
      "old energy: -92.77263859442041\n",
      "wolfe: tensor(-7.3185e-07)\n",
      "iter = 008, energy = -92.776835723468\n",
      "lowest eigval hessian = -0.005493464751620036\n",
      "augmenting hessian...\n",
      "Lowest eigenvalue of augmented hessian: 0.0005503464751644942\n",
      "test_energy: -92.76946114277865 ... old energy: -92.77683572346807\n",
      "do backtracking line search...\n",
      "t = 0.5\n",
      "new energy: -92.77752102378116\n",
      "old energy: -92.77683572346807\n",
      "wolfe: tensor(-1.0305e-07)\n",
      "iter = 009, energy = -92.777521023781\n",
      "lowest eigval hessian = -0.006848827189607191\n",
      "augmenting hessian...\n",
      "Lowest eigenvalue of augmented hessian: 0.0006858827189580463\n",
      "new energy: -92.77836865887002\n",
      "old energy: -92.77752102378119\n",
      "wolfe: tensor(-1.3208e-07)\n",
      "iter = 010, energy = -92.778368658870\n",
      "lowest eigval hessian = -0.0023970285479136184\n",
      "augmenting hessian...\n",
      "Lowest eigenvalue of augmented hessian: 0.0002407028547940288\n",
      "test_energy: -92.5387224310839 ... old energy: -92.77836865886998\n",
      "do backtracking line search...\n",
      "t = 0.5\n",
      "t = 0.25\n",
      "t = 0.125\n",
      "new energy: -92.77879292046467\n",
      "old energy: -92.77836865886998\n",
      "wolfe: tensor(-3.9403e-08)\n",
      "iter = 011, energy = -92.778792920465\n",
      "lowest eigval hessian = -0.0013201285309251537\n",
      "augmenting hessian...\n",
      "Lowest eigenvalue of augmented hessian: 0.00013301285309597863\n",
      "test_energy: -92.75222593425504 ... old energy: -92.77879292046461\n",
      "do backtracking line search...\n",
      "t = 0.5\n",
      "t = 0.25\n",
      "new energy: -92.77931318770906\n",
      "old energy: -92.77879292046461\n",
      "wolfe: tensor(-5.7342e-08)\n",
      "iter = 012, energy = -92.779313187709\n",
      "lowest eigval hessian = -0.0015180292097819127\n",
      "augmenting hessian...\n",
      "Lowest eigenvalue of augmented hessian: 0.00015280292098086224\n",
      "test_energy: -92.69832718946151 ... old energy: -92.77931318770901\n",
      "do backtracking line search...\n",
      "t = 0.5\n",
      "t = 0.25\n",
      "new energy: -92.77936102539024\n",
      "old energy: -92.77931318770901\n",
      "wolfe: tensor(-4.1246e-08)\n",
      "iter = 013, energy = -92.779361025390\n",
      "lowest eigval hessian = -0.00398106913680044\n",
      "augmenting hessian...\n",
      "Lowest eigenvalue of augmented hessian: 0.00039910691367906604\n",
      "test_energy: -92.77570585849227 ... old energy: -92.77936102539024\n",
      "do backtracking line search...\n",
      "t = 0.5\n",
      "new energy: -92.77982049042436\n",
      "old energy: -92.77936102539024\n",
      "wolfe: tensor(-6.2885e-08)\n",
      "iter = 014, energy = -92.779820490424\n",
      "lowest eigval hessian = -0.0018797985968595113\n",
      "augmenting hessian...\n",
      "Lowest eigenvalue of augmented hessian: 0.00018897985968722685\n",
      "test_energy: -92.62897598026106 ... old energy: -92.77982049042434\n",
      "do backtracking line search...\n",
      "t = 0.5\n",
      "t = 0.25\n",
      "t = 0.125\n",
      "new energy: -92.78012229997115\n",
      "old energy: -92.77982049042434\n",
      "wolfe: tensor(-2.7336e-08)\n",
      "iter = 015, energy = -92.780122299971\n",
      "lowest eigval hessian = -0.0005281315701300913\n",
      "augmenting hessian...\n",
      "Lowest eigenvalue of augmented hessian: 5.381315701243478e-05\n",
      "test_energy: -92.75876241604766 ... old energy: -92.78012229997113\n",
      "do backtracking line search...\n",
      "t = 0.5\n",
      "t = 0.25\n",
      "new energy: -92.78040217560634\n",
      "old energy: -92.78012229997113\n",
      "wolfe: tensor(-3.4878e-08)\n",
      "iter = 016, energy = -92.780402175606\n",
      "lowest eigval hessian = -0.0014875521369988442\n",
      "augmenting hessian...\n",
      "Lowest eigenvalue of augmented hessian: 0.00014975521368967268\n",
      "new energy: -92.78070691502779\n",
      "old energy: -92.7804021756063\n",
      "wolfe: tensor(-5.1098e-08)\n",
      "iter = 017, energy = -92.780706915028\n",
      "lowest eigval hessian = -0.0004928091886570603\n",
      "augmenting hessian...\n",
      "Lowest eigenvalue of augmented hessian: 5.0280918863167953e-05\n",
      "test_energy: -92.73277281059241 ... old energy: -92.78070691502776\n",
      "do backtracking line search...\n",
      "t = 0.5\n",
      "t = 0.25\n",
      "t = 0.125\n",
      "new energy: -92.78075737183138\n",
      "old energy: -92.78070691502776\n",
      "wolfe: tensor(-5.0813e-09)\n",
      "iter = 018, energy = -92.780757371831\n",
      "lowest eigval hessian = -0.0006289969121084817\n",
      "augmenting hessian...\n",
      "Lowest eigenvalue of augmented hessian: 6.389969121301951e-05\n",
      "test_energy: -92.78070062295183 ... old energy: -92.78075737183138\n",
      "do backtracking line search...\n",
      "t = 0.5\n",
      "new energy: -92.78079402243173\n",
      "old energy: -92.78075737183138\n",
      "wolfe: tensor(-5.1295e-09)\n",
      "iter = 019, energy = -92.780794022432\n",
      "lowest eigval hessian = -0.00027619084111934453\n",
      "augmenting hessian...\n",
      "Lowest eigenvalue of augmented hessian: 2.8619084111592835e-05\n",
      "test_energy: -92.78067671018383 ... old energy: -92.78079402243178\n",
      "do backtracking line search...\n",
      "t = 0.5\n",
      "new energy: -92.78080436346373\n",
      "old energy: -92.78079402243178\n",
      "wolfe: tensor(-2.0718e-09)\n",
      "iter = 020, energy = -92.780804363464\n",
      "lowest eigval hessian = -0.0004334635235575437\n",
      "augmenting hessian...\n",
      "Lowest eigenvalue of augmented hessian: 4.434635235704532e-05\n",
      "test_energy: -92.78078464411583 ... old energy: -92.7808043634637\n",
      "do backtracking line search...\n",
      "t = 0.5\n",
      "new energy: -92.78081210668523\n",
      "old energy: -92.7808043634637\n",
      "wolfe: tensor(-1.0536e-09)\n",
      "iter = 021, energy = -92.780812106685\n",
      "lowest eigval hessian = -0.00014033868457542843\n",
      "augmenting hessian...\n",
      "Lowest eigenvalue of augmented hessian: 1.5033868456020309e-05\n",
      "new energy: -92.78081321653178\n",
      "old energy: -92.7808121066852\n",
      "wolfe: tensor(-4.0968e-10)\n",
      "iter = 022, energy = -92.780813216532\n",
      "lowest eigval hessian = -0.00031285497500460824\n",
      "augmenting hessian...\n",
      "Lowest eigenvalue of augmented hessian: 3.228549749808092e-05\n",
      "new energy: -92.7808141077967\n",
      "old energy: -92.78081321653184\n",
      "wolfe: tensor(-1.7739e-10)\n",
      "iter = 023, energy = -92.780814107797\n",
      "lowest eigval hessian = -5.926972296551576e-07\n",
      "augmenting hessian...\n",
      "Lowest eigenvalue of augmented hessian: 1.059269722170527e-06\n",
      "new energy: -92.78081410817207\n",
      "old energy: -92.78081410779666\n",
      "wolfe: tensor(-7.5023e-14)\n",
      "iter = 024, energy = -92.780814108172\n",
      "lowest eigval hessian = -1.5419590543356614e-09\n",
      "augmenting hessian...\n",
      "Lowest eigenvalue of augmented hessian: 1.0001541956892605e-06\n",
      "test_energy: -92.7808141081721 ... old energy: -92.78081410817211\n",
      "do backtracking line search...\n",
      "t = 0.5\n",
      "t = 0.25\n",
      "t = 0.125\n",
      "t = 0.0625\n",
      "new energy: -92.78081410817212\n",
      "old energy: -92.78081410817211\n",
      "wolfe: tensor(-6.5327e-21)\n",
      "iter = 025, energy = -92.780814108172\n",
      "optimization finished.\n",
      "E_fin = -92.7808141081721\n"
     ]
    }
   ],
   "source": [
    "energy_l, theta_l, kappa_l, oao_mo_coeff_l, hess_eig_l = oo_pqc.full_optimization(theta_test)"
   ]
  },
  {
   "cell_type": "code",
   "execution_count": 36,
   "id": "9ff71c86",
   "metadata": {
    "scrolled": true
   },
   "outputs": [
    {
     "name": "stdout",
     "output_type": "stream",
     "text": [
      "\n",
      "OO-VQE converged\n",
      "OO-VQE energy: -92.780814\n",
      "CASSCF energy: -92.780814\n"
     ]
    }
   ],
   "source": [
    "print(\"\\nOO-VQE converged\")\n",
    "print(f'OO-VQE energy: {energy_l[-1]:.6f}')\n",
    "print(f'CASSCF energy: {mol.casscf.e_tot:.6f}')"
   ]
  },
  {
   "cell_type": "code",
   "execution_count": 37,
   "id": "74048a35",
   "metadata": {},
   "outputs": [
    {
     "data": {
      "image/png": "[encoded data removed]",
      "text/plain": [
       "<Figure size 640x480 with 1 Axes>"
      ]
     },
     "metadata": {},
     "output_type": "display_data"
    }
   ],
   "source": [
    "plt.plot(energy_l, '.-r', label='OO-VQE optimization')\n",
    "# plt.axhline(mol.hf.e_tot, ls='--', c='k', label='HF energy')\n",
    "plt.axhline(mol.casscf.e_tot, ls='--', c='k', label='CASSCF energy')\n",
    "plt.legend()\n",
    "plt.show()"
   ]
  },
  {
   "cell_type": "code",
   "execution_count": 38,
   "id": "66058729",
   "metadata": {},
   "outputs": [
    {
     "data": {
      "image/png": "[encoded data removed]",
      "text/plain": [
       "<Figure size 640x480 with 1 Axes>"
      ]
     },
     "metadata": {},
     "output_type": "display_data"
    }
   ],
   "source": [
    "plt.plot(hess_eig_l, '.-r', label='Hessian lowest eigenvalue')\n",
    "# plt.axhline(mol.hf.e_tot, ls='--', c='k', label='HF energy')\n",
    "# plt.axhline(mol.casscf.e_tot, ls='--', c='k', label='CASSCF energy')\n",
    "plt.legend()\n",
    "plt.show()"
   ]
  },
  {
   "cell_type": "code",
   "execution_count": 31,
   "id": "80f6dcb2",
   "metadata": {},
   "outputs": [
    {
     "ename": "NameError",
     "evalue": "name 'theta_l' is not defined",
     "output_type": "error",
     "traceback": [
      "\u001b[0;31m---------------------------------------------------------------------------\u001b[0m",
      "\u001b[0;31mNameError\u001b[0m                                 Traceback (most recent call last)",
      "Cell \u001b[0;32mIn[31], line 2\u001b[0m\n\u001b[1;32m      1\u001b[0m \u001b[38;5;28;01mfor\u001b[39;00m i \u001b[38;5;129;01min\u001b[39;00m \u001b[38;5;28mrange\u001b[39m(\u001b[38;5;28mlen\u001b[39m(theta_test)):\n\u001b[0;32m----> 2\u001b[0m     plt\u001b[38;5;241m.\u001b[39mplot([theta_l[j][i] \u001b[38;5;28;01mfor\u001b[39;00m j \u001b[38;5;129;01min\u001b[39;00m \u001b[38;5;28mrange\u001b[39m(\u001b[38;5;28mlen\u001b[39m(\u001b[43mtheta_l\u001b[49m))], \u001b[38;5;124m'\u001b[39m\u001b[38;5;124m.-\u001b[39m\u001b[38;5;124m'\u001b[39m, label\u001b[38;5;241m=\u001b[39m\u001b[38;5;124mf\u001b[39m\u001b[38;5;124m'\u001b[39m\u001b[38;5;124m$\u001b[39m\u001b[38;5;130;01m\\\\\u001b[39;00m\u001b[38;5;124mtheta \u001b[39m\u001b[38;5;132;01m{\u001b[39;00mi\u001b[38;5;132;01m}\u001b[39;00m\u001b[38;5;124m$\u001b[39m\u001b[38;5;124m'\u001b[39m)\n\u001b[1;32m      3\u001b[0m \u001b[38;5;66;03m# plt.axhline(mol.hf.e_tot, ls='--', c='k', label='HF energy')\u001b[39;00m\n\u001b[1;32m      4\u001b[0m \u001b[38;5;66;03m# plt.axhline(mol.casscf.e_tot, ls='--', c='k', label='CASSCF energy')\u001b[39;00m\n\u001b[1;32m      5\u001b[0m \u001b[38;5;66;03m# plt.legend()\u001b[39;00m\n\u001b[1;32m      6\u001b[0m plt\u001b[38;5;241m.\u001b[39mshow()\n",
      "\u001b[0;31mNameError\u001b[0m: name 'theta_l' is not defined"
     ]
    }
   ],
   "source": [
    "for i in range(len(theta_test)):\n",
    "    plt.plot([theta_l[j][i] for j in range(len(theta_l))], '.-', label=f'$\\\\theta {i}$')\n",
    "# plt.axhline(mol.hf.e_tot, ls='--', c='k', label='HF energy')\n",
    "# plt.axhline(mol.casscf.e_tot, ls='--', c='k', label='CASSCF energy')\n",
    "# plt.legend()\n",
    "plt.show()"
   ]
  },
  {
   "cell_type": "code",
   "execution_count": null,
   "id": "a9ba4fe4",
   "metadata": {},
   "outputs": [],
   "source": []
  }
 ],
 "metadata": {
  "kernelspec": {
   "display_name": "Python 3 (ipykernel)",
   "language": "python",
   "name": "python3"
  },
  "language_info": {
   "codemirror_mode": {
    "name": "ipython",
    "version": 3
   },
   "file_extension": ".py",
   "mimetype": "text/x-python",
   "name": "python",
   "nbconvert_exporter": "python",
   "pygments_lexer": "ipython3",
   "version": "3.10.9"
  }
 },
 "nbformat": 4,
 "nbformat_minor": 5
}
